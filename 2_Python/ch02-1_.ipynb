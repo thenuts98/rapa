{
 "cells": [
  {
   "cell_type": "markdown",
   "metadata": {},
   "source": [
    "# ch02. 자료형과 연산자\n",
    "## 1절. 변수\n",
    "### 1.1 변수 선언\n",
    "- 별도의 변수 선언 과정 없음\n",
    "### 1.2 변수 할당\n",
    "- 대입 연산자(=) 사용\n"
   ]
  },
  {
   "cell_type": "code",
   "execution_count": 41,
   "metadata": {},
   "outputs": [
    {
     "name": "stdout",
     "output_type": "stream",
     "text": [
      "원주율의 값 : 3.141592653589793\n",
      "반지름이 r = 5인 원의 넓이 : 78.53981633974483\n",
      "area의 타입 :  <class 'float'>\n",
      "area의 주소 :  2229701325648\n"
     ]
    }
   ],
   "source": [
    "import numpy as np\n",
    "\n",
    "print(\"원주율의 값 :\", np.pi)\n",
    "r = 5\n",
    "area = np.pi * r * r\n",
    "print(\"반지름이 r = 5인 원의 넓이 :\", area)\n",
    "\n",
    "print(\"area의 타입 : \",type(area))\n",
    "print(\"area의 주소 : \", id(area))"
   ]
  },
  {
   "cell_type": "code",
   "execution_count": 42,
   "metadata": {},
   "outputs": [
    {
     "name": "stdout",
     "output_type": "stream",
     "text": [
      "area의 값 :  10\n",
      "area의 타입 :  <class 'int'>\n",
      "area의 주소 :  140720975627336\n"
     ]
    }
   ],
   "source": [
    "area = 10\n",
    "print(\"area의 값 : \", area)\n",
    "print(\"area의 타입 : \",type(area))\n",
    "print(\"area의 주소 : \", id(area))"
   ]
  },
  {
   "cell_type": "code",
   "execution_count": 43,
   "metadata": {},
   "outputs": [
    {
     "name": "stdout",
     "output_type": "stream",
     "text": [
      "area의 값 :  파이썬은 좋아요\n",
      "area의 타입 :  <class 'str'>\n",
      "area의 주소 :  2229702817136\n"
     ]
    }
   ],
   "source": [
    "area = \"파이썬은 좋아요\"\n",
    "print(\"area의 값 : \", area)\n",
    "print(\"area의 타입 : \",type(area))\n",
    "print(\"area의 주소 : \", id(area))"
   ]
  },
  {
   "cell_type": "markdown",
   "metadata": {},
   "source": [
    "파이썬의 경우 가비지 컬렉터를 통해 메모리를 관리하여 더이상 사용되지 않는 값은 자동으로 할당 해제하고 새로은 값, 타입이 변수에 주어질 경우 같은 변수명일지라도 다른 공간을 할당하여 처리한다.\n"
   ]
  },
  {
   "cell_type": "markdown",
   "metadata": {},
   "source": [
    "### 1.3 변수 이름 규칙\n",
    "- 문자(특수문자는 _ 제외하면 불가능), 숫자, _로 명명.\n",
    "- 문자로 시작 (숫자 시작 불가능).\n",
    "- 파이썬에서 제공하는 기본 함수명은 피하는 것이 좋음. 꼭 써야한다면 _를 활용.\n",
    "- 파이썬 예약어는 변수명으로 사용 불가.\n"
   ]
  },
  {
   "cell_type": "code",
   "execution_count": 44,
   "metadata": {},
   "outputs": [
    {
     "name": "stdout",
     "output_type": "stream",
     "text": [
      "<class 'complex'>\n"
     ]
    }
   ],
   "source": [
    "i = 1 + 3j\n",
    "print(type(i))"
   ]
  },
  {
   "cell_type": "code",
   "execution_count": 45,
   "metadata": {},
   "outputs": [
    {
     "name": "stdout",
     "output_type": "stream",
     "text": [
      "(10, 20)\n"
     ]
    }
   ],
   "source": [
    "a, b = 10, 20   # 다중 선언\n",
    "print(f'({a}, {b})')"
   ]
  },
  {
   "cell_type": "code",
   "execution_count": 46,
   "metadata": {},
   "outputs": [
    {
     "name": "stdout",
     "output_type": "stream",
     "text": [
      "(20, 30)\n"
     ]
    }
   ],
   "source": [
    "a, b = b, a+b\n",
    "print(f'({a}, {b})')"
   ]
  },
  {
   "cell_type": "markdown",
   "metadata": {},
   "source": [
    "### 1.4 도움말"
   ]
  },
  {
   "cell_type": "code",
   "execution_count": 47,
   "metadata": {},
   "outputs": [
    {
     "name": "stdout",
     "output_type": "stream",
     "text": [
      "\n"
     ]
    },
    {
     "name": "stdout",
     "output_type": "stream",
     "text": [
      "\u001b[1;31mSignature:\u001b[0m \u001b[0mprint\u001b[0m\u001b[1;33m(\u001b[0m\u001b[1;33m*\u001b[0m\u001b[0margs\u001b[0m\u001b[1;33m,\u001b[0m \u001b[0msep\u001b[0m\u001b[1;33m=\u001b[0m\u001b[1;34m' '\u001b[0m\u001b[1;33m,\u001b[0m \u001b[0mend\u001b[0m\u001b[1;33m=\u001b[0m\u001b[1;34m'\\n'\u001b[0m\u001b[1;33m,\u001b[0m \u001b[0mfile\u001b[0m\u001b[1;33m=\u001b[0m\u001b[1;32mNone\u001b[0m\u001b[1;33m,\u001b[0m \u001b[0mflush\u001b[0m\u001b[1;33m=\u001b[0m\u001b[1;32mFalse\u001b[0m\u001b[1;33m)\u001b[0m\u001b[1;33m\u001b[0m\u001b[1;33m\u001b[0m\u001b[0m\n",
      "\u001b[1;31mDocstring:\u001b[0m\n",
      "Prints the values to a stream, or to sys.stdout by default.\n",
      "\n",
      "sep\n",
      "  string inserted between values, default a space.\n",
      "end\n",
      "  string appended after the last value, default a newline.\n",
      "file\n",
      "  a file-like object (stream); defaults to the current sys.stdout.\n",
      "flush\n",
      "  whether to forcibly flush the stream.\n",
      "\u001b[1;31mType:\u001b[0m      builtin_function_or_method"
     ]
    }
   ],
   "source": [
    "#help(print)\n",
    "?print\n",
    "# 도움말 기능 : 함수 내에서 shift + tab 키\n",
    "# VSCode에서는 자동으로 나온다.\n",
    "print()"
   ]
  },
  {
   "cell_type": "code",
   "execution_count": 48,
   "metadata": {},
   "outputs": [
    {
     "name": "stdout",
     "output_type": "stream",
     "text": [
      "\u001b[1;31mSignature:\u001b[0m \u001b[0mmake_number\u001b[0m\u001b[1;33m(\u001b[0m\u001b[0mx\u001b[0m\u001b[1;33m,\u001b[0m \u001b[0my\u001b[0m\u001b[1;33m=\u001b[0m\u001b[1;36m0\u001b[0m\u001b[1;33m)\u001b[0m\u001b[1;33m\u001b[0m\u001b[1;33m\u001b[0m\u001b[0m\n",
      "\u001b[1;31mDocstring:\u001b[0m\n",
      "doc string(함수의 도움말)\n",
      "두 자리 정수 xy를 return합니다.\n",
      "십의 자리 : x\n",
      "일의 자리 : y (default = 0)\n",
      "\u001b[1;31mFile:\u001b[0m      c:\\users\\user\\appdata\\local\\temp\\ipykernel_10332\\741576358.py\n",
      "\u001b[1;31mType:\u001b[0m      function"
     ]
    }
   ],
   "source": [
    "def make_number(x, y  = 0):\n",
    "    \"\"\"doc string(함수의 도움말)\n",
    "    두 자리 정수 xy를 return합니다.\n",
    "    십의 자리 : x\n",
    "    일의 자리 : y (default = 0)\n",
    "    \"\"\"\n",
    "    return x*10+y;\n",
    "\n",
    "\n",
    "make_number(3,2)\n",
    "?make_number"
   ]
  },
  {
   "cell_type": "code",
   "execution_count": 49,
   "metadata": {},
   "outputs": [],
   "source": [
    "make = make_number"
   ]
  },
  {
   "cell_type": "code",
   "execution_count": 50,
   "metadata": {},
   "outputs": [
    {
     "ename": "NameError",
     "evalue": "name 'make' is not defined",
     "output_type": "error",
     "traceback": [
      "\u001b[1;31m---------------------------------------------------------------------------\u001b[0m",
      "\u001b[1;31mNameError\u001b[0m                                 Traceback (most recent call last)",
      "Cell \u001b[1;32mIn[50], line 2\u001b[0m\n\u001b[0;32m      1\u001b[0m \u001b[38;5;28;01mdel\u001b[39;00m make\n\u001b[1;32m----> 2\u001b[0m make(\u001b[38;5;241m6\u001b[39m)\n",
      "\u001b[1;31mNameError\u001b[0m: name 'make' is not defined"
     ]
    }
   ],
   "source": [
    "del make\n",
    "make(6)"
   ]
  },
  {
   "cell_type": "markdown",
   "metadata": {},
   "source": [
    "## 2절. 화면 입출력"
   ]
  },
  {
   "cell_type": "code",
   "execution_count": 54,
   "metadata": {},
   "outputs": [
    {
     "name": "stdout",
     "output_type": "stream",
     "text": [
      "두 수의 합은 1020\n",
      "두 수의 합은 1020\n"
     ]
    }
   ],
   "source": [
    "first = input('첫번째 숫자는? : ') # 문자로 return\n",
    "second = input('두번쨰 숫자는? : ')"
   ]
  },
  {
   "cell_type": "code",
   "execution_count": 55,
   "metadata": {},
   "outputs": [
    {
     "name": "stdout",
     "output_type": "stream",
     "text": [
      "두 수의 합은 1020\n",
      "두 수의 합은 1020\n"
     ]
    }
   ],
   "source": [
    "print(f'두 수의 합은 {first+second}')\n",
    "print('두 수의 합은 {}'.format(first+second))"
   ]
  },
  {
   "cell_type": "markdown",
   "metadata": {},
   "source": [
    "## 3절. 기본 자료형\n",
    "- 숫자 : int, float, complex\n",
    "- 문자 : str\n",
    "- 논리 : bool\n",
    "파이썬은 타입을 지칭하는 키워드가 없고, 변수 할당시 타입이 정해진다."
   ]
  },
  {
   "cell_type": "markdown",
   "metadata": {},
   "source": [
    "### 3.1 숫자형"
   ]
  },
  {
   "cell_type": "code",
   "execution_count": 56,
   "metadata": {},
   "outputs": [
    {
     "name": "stdout",
     "output_type": "stream",
     "text": [
      "9223372036854775807\n"
     ]
    }
   ],
   "source": [
    "import sys # sys에서 값의 최대값이 정의되어 있다.\n",
    "print(sys.maxsize)"
   ]
  },
  {
   "cell_type": "code",
   "execution_count": null,
   "metadata": {},
   "outputs": [],
   "source": []
  },
  {
   "cell_type": "code",
   "execution_count": null,
   "metadata": {},
   "outputs": [],
   "source": []
  },
  {
   "cell_type": "code",
   "execution_count": 57,
   "metadata": {},
   "outputs": [
    {
     "name": "stdout",
     "output_type": "stream",
     "text": [
      "값 : 9223372036854775817, 주소 : 2229694114256, 타입 : <class 'int'>\n"
     ]
    }
   ],
   "source": [
    "a = sys.maxsize + 10\n",
    "print(f'값 : {a}, 주소 : {id(a)}, 타입 : {type(a)}')\n",
    "# maxsize를 넘는 값도 처리가 가능하다. ㅁㅁㅁㅁㅂ"
   ]
  }
 ],
 "metadata": {
  "kernelspec": {
   "display_name": "Python 3 (ipykernel)",
   "language": "python",
   "name": "python3"
  },
  "language_info": {
   "codemirror_mode": {
    "name": "ipython",
    "version": 3
   },
   "file_extension": ".py",
   "mimetype": "text/x-python",
   "name": "python",
   "nbconvert_exporter": "python",
   "pygments_lexer": "ipython3",
   "version": "3.11.7"
  }
 },
 "nbformat": 4,
 "nbformat_minor": 2
}
