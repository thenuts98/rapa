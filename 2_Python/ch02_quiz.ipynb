{
 "cells": [
  {
   "cell_type": "markdown",
   "metadata": {},
   "source": [
    "## 8절. 연습문제"
   ]
  },
  {
   "cell_type": "code",
   "execution_count": null,
   "metadata": {},
   "outputs": [
    {
     "name": "stdout",
     "output_type": "stream",
     "text": [
      "김준호님의 나이는 25입니다.\n"
     ]
    }
   ],
   "source": [
    "name = input('이름을 입력해주세요 : ')\n",
    "age = int(input('나이를 입력해주세요 : '))\n",
    "\n",
    "print(f\"{name}님의 나이는 {age}입니다.\")"
   ]
  },
  {
   "cell_type": "code",
   "execution_count": null,
   "metadata": {},
   "outputs": [
    {
     "name": "stdout",
     "output_type": "stream",
     "text": [
      "두 수의 합 : 13\n",
      "두 수의 차 : 7\n",
      "두 수의 곱 : 30\n",
      "두 수의 나눗셈 : 3.3333333333333335\n",
      "두 수의 몫 : 3\n",
      "두 수의 나머지 : 1\n"
     ]
    }
   ],
   "source": [
    "a, b = map(int, input(\"두 정수를 입력해주세요 : \").split())\n",
    "print(\"두 수의 합 : {}\".format(a+b))\n",
    "print(\"두 수의 차 : {}\".format(a-b))\n",
    "print(\"두 수의 곱 : {}\".format(a*b))\n",
    "print(\"두 수의 나눗셈 : {}\".format(a/b))\n",
    "print(\"두 수의 몫 : {}\".format(a//b))\n",
    "print(\"두 수의 나머지 : {}\".format(a%b))"
   ]
  },
  {
   "cell_type": "code",
   "execution_count": null,
   "metadata": {},
   "outputs": [
    {
     "name": "stdout",
     "output_type": "stream",
     "text": [
      "World Hello\n"
     ]
    }
   ],
   "source": [
    "temp = 'Hello World'\n",
    "temp_list = temp.split()\n",
    "temp = temp_list[1] + ' ' + temp_list[0]\n",
    "print(temp)"
   ]
  },
  {
   "cell_type": "code",
   "execution_count": null,
   "metadata": {},
   "outputs": [
    {
     "name": "stdout",
     "output_type": "stream",
     "text": [
      "bcdefa\n"
     ]
    }
   ],
   "source": [
    "x = 'abcdef'\n",
    "print(x[1:]+x[0])"
   ]
  },
  {
   "cell_type": "code",
   "execution_count": null,
   "metadata": {},
   "outputs": [
    {
     "name": "stdout",
     "output_type": "stream",
     "text": [
      "fedcba\n"
     ]
    }
   ],
   "source": [
    "print(x[::-1])"
   ]
  },
  {
   "cell_type": "code",
   "execution_count": null,
   "metadata": {},
   "outputs": [
    {
     "name": "stdout",
     "output_type": "stream",
     "text": [
      "37.65\n"
     ]
    }
   ],
   "source": [
    "C = float(input(\"오늘의 섭씨 온도를 입력해주세요: \"))\n",
    "F = C * 1.8 + 32\n",
    "if (F % 1 == 0):\n",
    "    print(\"{:d}\".format(F))\n",
    "else:\n",
    "    print(\"{:.2f}\".format(F))\n",
    "\n",
    "    "
   ]
  },
  {
   "cell_type": "markdown",
   "metadata": {},
   "source": [
    "7번 : (2) 변수 이름의 시작을 숫자로 할 수 없음.\n",
    "\n",
    "8번: \n",
    "```Python\n",
    "SeounSeoul\n",
    "(Seou,n,Seoul)\n",
    "```\n",
    "\n",
    "9번 : (2)"
   ]
  },
  {
   "cell_type": "code",
   "execution_count": null,
   "metadata": {},
   "outputs": [
    {
     "data": {
      "text/plain": [
       "4.0"
      ]
     },
     "metadata": {},
     "output_type": "display_data"
    }
   ],
   "source": []
  }
 ],
 "metadata": {
  "language_info": {
   "name": "python"
  }
 },
 "nbformat": 4,
 "nbformat_minor": 2
}
