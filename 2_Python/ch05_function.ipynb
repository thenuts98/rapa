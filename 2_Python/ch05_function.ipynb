{
 "cells": [
  {
   "cell_type": "markdown",
   "metadata": {},
   "source": [
    "# 5장. 함수\n",
    "## 1절. 함수의 정의\n",
    "### 1.1 함수 정의"
   ]
  },
  {
   "cell_type": "code",
   "execution_count": 1,
   "metadata": {},
   "outputs": [
    {
     "name": "stdout",
     "output_type": "stream",
     "text": [
      "0 쉬는 시간 입니다.\n",
      "1 쉬는 시간 입니다.\n",
      "2 쉬는 시간 입니다.\n",
      "3 쉬는 시간 입니다.\n"
     ]
    }
   ],
   "source": [
    "def my_hello(x, msg): # 함수 정의\n",
    "    for i in range(x):\n",
    "        print(i, msg)\n",
    "\n",
    "my_hello(4, \"쉬는 시간 입니다.\")"
   ]
  },
  {
   "cell_type": "code",
   "execution_count": 2,
   "metadata": {},
   "outputs": [
    {
     "name": "stdout",
     "output_type": "stream",
     "text": [
      "6\n",
      "3\n"
     ]
    }
   ],
   "source": [
    "def my_add(num1, num2, num3 = 0):\n",
    "    return num1 + num2 + num3\n",
    "\n",
    "print(my_add(1,2,3))\n",
    "print(my_add(1,2))"
   ]
  },
  {
   "cell_type": "markdown",
   "metadata": {},
   "source": [
    "### 1.2 docstring\n",
    "    - 함수 도움말 (shift + tab으로 볼 수 있음)"
   ]
  },
  {
   "cell_type": "code",
   "execution_count": 11,
   "metadata": {},
   "outputs": [
    {
     "ename": "ModuleNotFoundError",
     "evalue": "No module named 'fibonacci'",
     "output_type": "error",
     "traceback": [
      "\u001b[1;31m---------------------------------------------------------------------------\u001b[0m",
      "\u001b[1;31mModuleNotFoundError\u001b[0m                       Traceback (most recent call last)",
      "Cell \u001b[1;32mIn[11], line 1\u001b[0m\n\u001b[1;32m----> 1\u001b[0m \u001b[38;5;28;01mimport\u001b[39;00m \u001b[38;5;21;01mfibonacci\u001b[39;00m\n\u001b[0;32m      3\u001b[0m fibonacci\u001b[38;5;241m.\u001b[39mfibonacci(\u001b[38;5;241m100\u001b[39m)\n",
      "\u001b[1;31mModuleNotFoundError\u001b[0m: No module named 'fibonacci'"
     ]
    }
   ],
   "source": [
    "import fibonacci\n",
    "\n",
    "fibonacci.fibonacci(100)"
   ]
  },
  {
   "cell_type": "markdown",
   "metadata": {},
   "source": [
    "### 1.3 지역변수(local variable)와 전역변수(global variable)"
   ]
  },
  {
   "cell_type": "code",
   "execution_count": 13,
   "metadata": {},
   "outputs": [
    {
     "name": "stdout",
     "output_type": "stream",
     "text": [
      "100\n"
     ]
    }
   ],
   "source": [
    "global_var = 100\n",
    "def func1():\n",
    "    print(global_var)\n",
    "\n",
    "func1()"
   ]
  },
  {
   "cell_type": "code",
   "execution_count": 18,
   "metadata": {},
   "outputs": [
    {
     "ename": "NameError",
     "evalue": "name 'local_var' is not defined",
     "output_type": "error",
     "traceback": [
      "\u001b[1;31m---------------------------------------------------------------------------\u001b[0m",
      "\u001b[1;31mNameError\u001b[0m                                 Traceback (most recent call last)",
      "Cell \u001b[1;32mIn[18], line 5\u001b[0m\n\u001b[0;32m      2\u001b[0m     local_var \u001b[38;5;241m=\u001b[39m \u001b[38;5;241m100\u001b[39m\n\u001b[0;32m      4\u001b[0m func2()\n\u001b[1;32m----> 5\u001b[0m \u001b[38;5;28mprint\u001b[39m(local_var)\n",
      "\u001b[1;31mNameError\u001b[0m: name 'local_var' is not defined"
     ]
    }
   ],
   "source": [
    "def func2():\n",
    "    local_var = 100\n",
    "\n",
    "func2()\n",
    "print(local_var)"
   ]
  },
  {
   "cell_type": "code",
   "execution_count": 20,
   "metadata": {},
   "outputs": [
    {
     "ename": "UnboundLocalError",
     "evalue": "cannot access local variable 'g_var' where it is not associated with a value",
     "output_type": "error",
     "traceback": [
      "\u001b[1;31m---------------------------------------------------------------------------\u001b[0m",
      "\u001b[1;31mUnboundLocalError\u001b[0m                         Traceback (most recent call last)",
      "Cell \u001b[1;32mIn[20], line 6\u001b[0m\n\u001b[0;32m      4\u001b[0m     g_var \u001b[38;5;241m=\u001b[39m \u001b[38;5;241m200\u001b[39m\n\u001b[0;32m      5\u001b[0m     \u001b[38;5;28mprint\u001b[39m(g_var)\n\u001b[1;32m----> 6\u001b[0m func3()\n\u001b[0;32m      7\u001b[0m \u001b[38;5;28mprint\u001b[39m(g_var)\n",
      "Cell \u001b[1;32mIn[20], line 3\u001b[0m, in \u001b[0;36mfunc3\u001b[1;34m()\u001b[0m\n\u001b[0;32m      2\u001b[0m \u001b[38;5;28;01mdef\u001b[39;00m \u001b[38;5;21mfunc3\u001b[39m():\n\u001b[1;32m----> 3\u001b[0m     \u001b[38;5;28mprint\u001b[39m(g_var)\n\u001b[0;32m      4\u001b[0m     g_var \u001b[38;5;241m=\u001b[39m \u001b[38;5;241m200\u001b[39m\n\u001b[0;32m      5\u001b[0m     \u001b[38;5;28mprint\u001b[39m(g_var)\n",
      "\u001b[1;31mUnboundLocalError\u001b[0m: cannot access local variable 'g_var' where it is not associated with a value"
     ]
    }
   ],
   "source": [
    "g_var = 100\n",
    "def func3():\n",
    "    print(g_var)\n",
    "    g_var = 200\n",
    "    print(g_var)\n",
    "func3()\n",
    "print(g_var)"
   ]
  },
  {
   "cell_type": "markdown",
   "metadata": {},
   "source": [
    "### 1.5 전역변수 수정"
   ]
  },
  {
   "cell_type": "code",
   "execution_count": 21,
   "metadata": {},
   "outputs": [
    {
     "name": "stdout",
     "output_type": "stream",
     "text": [
      "100\n",
      "200\n",
      "200\n"
     ]
    }
   ],
   "source": [
    "g_var = 100\n",
    "def func3():\n",
    "    global g_var\n",
    "    print(g_var)\n",
    "    g_var = 200\n",
    "    print(g_var)\n",
    "func3()\n",
    "print(g_var)"
   ]
  },
  {
   "cell_type": "markdown",
   "metadata": {},
   "source": [
    "### 1.6 값에 의한 호출 (call by value)\n",
    "    - 함수에 인수로 전달되는 변수가 스칼라 변수(숫자, 문자, 논리)일 경우"
   ]
  },
  {
   "cell_type": "code",
   "execution_count": 22,
   "metadata": {},
   "outputs": [
    {
     "data": {
      "text/plain": [
       "2601379615152"
      ]
     },
     "execution_count": 22,
     "metadata": {},
     "output_type": "execute_result"
    }
   ],
   "source": [
    "foo = 'ab'\n",
    "id(foo) "
   ]
  },
  {
   "cell_type": "code",
   "execution_count": 25,
   "metadata": {},
   "outputs": [
    {
     "name": "stdout",
     "output_type": "stream",
     "text": [
      "Before : ab의 주소는 2601379615152\n",
      "After  : ababab의 주소는 2601436242288\n",
      "함수 호출 후 foo : ab의 주소는 2601379615152\n"
     ]
    }
   ],
   "source": [
    "def func1(f):\n",
    "    print(\"Before : {}의 주소는 {}\".format(f, id(f)))\n",
    "    f *= 3\n",
    "    print(\"After  : {}의 주소는 {}\".format(f, id(f)))\n",
    "\n",
    "func1(foo)\n",
    "print(\"함수 호출 후 foo : {}의 주소는 {}\".format(foo, id(foo)))"
   ]
  },
  {
   "cell_type": "markdown",
   "metadata": {},
   "source": [
    "### 1.7 참조에 의한 호출(call by reference)\n",
    "    - 함수에 전달되는 인수가 리스트, 딕셔너리, 셋인 경우"
   ]
  },
  {
   "cell_type": "code",
   "execution_count": 28,
   "metadata": {},
   "outputs": [
    {
     "name": "stdout",
     "output_type": "stream",
     "text": [
      "L의 내용은 [1, 2, 3], 주소는 2601451710464\n"
     ]
    }
   ],
   "source": [
    "L = [1,2,3]\n",
    "print(\"L의 내용은 {}, 주소는 {}\".format(L, id(L)))"
   ]
  },
  {
   "cell_type": "code",
   "execution_count": 29,
   "metadata": {},
   "outputs": [
    {
     "name": "stdout",
     "output_type": "stream",
     "text": [
      "함수 내 before : L의 내용은 [1, 2, 3], 주소는 2601451710464\n",
      "함수 내 after : L의 내용은 [1, 2, 3, 4], 주소는 2601451710464\n",
      "L의 내용은 [1, 2, 3, 4], 주소는 2601451710464\n"
     ]
    }
   ],
   "source": [
    "def func2(f):\n",
    "    print(\"함수 내 before : L의 내용은 {}, 주소는 {}\".format(L, id(L)))\n",
    "    f.append(4)\n",
    "    print(\"함수 내 after : L의 내용은 {}, 주소는 {}\".format(L, id(L)))\n",
    "    \n",
    "func2(L)\n",
    "print(\"L의 내용은 {}, 주소는 {}\".format(L, id(L)))"
   ]
  },
  {
   "cell_type": "markdown",
   "metadata": {},
   "source": [
    "## 2절. 함수의 실행 결과를 반환하는 return\n",
    "    - 여러 개의 값을 반환할 수 있다. (하나의 튜플로 반환)"
   ]
  },
  {
   "cell_type": "code",
   "execution_count": 31,
   "metadata": {},
   "outputs": [],
   "source": [
    "# 여러 값을 return\n",
    "def swap(a, b):\n",
    "    return b, a"
   ]
  },
  {
   "cell_type": "code",
   "execution_count": 32,
   "metadata": {},
   "outputs": [
    {
     "name": "stdout",
     "output_type": "stream",
     "text": [
      "함수 실행 전 x = 5, y = 10\n",
      "함수 실행 후 x = 10, y = 5\n"
     ]
    }
   ],
   "source": [
    "x, y = 5, 10\n",
    "print(\"함수 실행 전 x = {}, y = {}\".format(x, y))\n",
    "x, y = swap(x, y)\n",
    "print(\"함수 실행 후 x = {}, y = {}\".format(x, y))"
   ]
  },
  {
   "cell_type": "markdown",
   "metadata": {},
   "source": [
    "## 3절. 함수의 매개변수 ★\n",
    "### 3.1 기본값을 갖는 매개변수"
   ]
  },
  {
   "cell_type": "code",
   "execution_count": 34,
   "metadata": {},
   "outputs": [],
   "source": [
    "def make_url(ip, port = 80):\n",
    "    # 순서인수, 기본값,을 갖는 인수 순으로\n",
    "    return \"https://{}:{}\".format(ip, port)"
   ]
  },
  {
   "cell_type": "code",
   "execution_count": 37,
   "metadata": {},
   "outputs": [
    {
     "name": "stdout",
     "output_type": "stream",
     "text": [
      "https://localhost:80\n",
      "https://localhost:8090\n",
      "https://localhost:8090\n"
     ]
    }
   ],
   "source": [
    "print(make_url('localhost'))\n",
    "print(make_url('localhost', 8090))\n",
    "print(make_url(port=8090, ip='localhost'))"
   ]
  },
  {
   "cell_type": "markdown",
   "metadata": {},
   "source": [
    "### 3.2 튜플 매개변수로 이용한 가변인수(인수갯수가 가변) 설정"
   ]
  },
  {
   "cell_type": "code",
   "execution_count": 40,
   "metadata": {},
   "outputs": [
    {
     "name": "stdout",
     "output_type": "stream",
     "text": [
      "hello world\n"
     ]
    }
   ],
   "source": [
    "print('hello','world') # 인수의 갯수가 가변 = 가변인수"
   ]
  },
  {
   "cell_type": "code",
   "execution_count": 46,
   "metadata": {},
   "outputs": [],
   "source": [
    "# args 앞에 * : args가 튜플로 전달\n",
    "def add(*args):\n",
    "    print('전달받은 args = {}'.format(args))\n",
    "    print(type(args))\n",
    "    sum = 0\n",
    "    for num in args:\n",
    "        sum += num\n",
    "    \n",
    "    return sum"
   ]
  },
  {
   "cell_type": "code",
   "execution_count": 47,
   "metadata": {},
   "outputs": [
    {
     "name": "stdout",
     "output_type": "stream",
     "text": [
      "전달받은 args = (1, 2, 3, 4, 5, 6)\n",
      "<class 'tuple'>\n"
     ]
    },
    {
     "data": {
      "text/plain": [
       "21"
      ]
     },
     "execution_count": 47,
     "metadata": {},
     "output_type": "execute_result"
    }
   ],
   "source": [
    "add(1,2,3,4,5,6)"
   ]
  },
  {
   "cell_type": "code",
   "execution_count": 51,
   "metadata": {},
   "outputs": [],
   "source": [
    "def concat(*args, sep):\n",
    "    return sep.join(args)"
   ]
  },
  {
   "cell_type": "code",
   "execution_count": 52,
   "metadata": {},
   "outputs": [
    {
     "data": {
      "text/plain": [
       "'C~Python~Oracle'"
      ]
     },
     "execution_count": 52,
     "metadata": {},
     "output_type": "execute_result"
    }
   ],
   "source": [
    "# 해결책 1. 지정해주기\n",
    "concat(\"C\", \"Python\", \"Oracle\", sep=\"~\")"
   ]
  },
  {
   "cell_type": "code",
   "execution_count": 54,
   "metadata": {},
   "outputs": [
    {
     "data": {
      "text/plain": [
       "'C~Python~Oracle'"
      ]
     },
     "execution_count": 54,
     "metadata": {},
     "output_type": "execute_result"
    }
   ],
   "source": [
    "# 해결책 2. 추천 -> 일반 인수 - 튜플인수 - 기본값이 있는 인수 순으로 나열\n",
    "def concat(sep, *args):\n",
    "    return sep.join(args)\n",
    "\n",
    "concat(\"~\", \"C\", \"Python\", \"Oracle\")"
   ]
  },
  {
   "cell_type": "code",
   "execution_count": 55,
   "metadata": {},
   "outputs": [],
   "source": [
    "# 해결책 3. \n",
    "def concat(*args, sep= '/'): # 순서인수 > 튜플인수 > 키워드인수\n",
    "    return sep.join(args)"
   ]
  },
  {
   "cell_type": "markdown",
   "metadata": {},
   "source": [
    "### 3.3 딕셔너리 매개변수"
   ]
  },
  {
   "cell_type": "code",
   "execution_count": 61,
   "metadata": {},
   "outputs": [],
   "source": [
    "def func(**args):\n",
    "    # print(args)\n",
    "    # print(type(args))\n",
    "    for key, value in args.items():\n",
    "        print(\"{} : {}\".format(key, value))"
   ]
  },
  {
   "cell_type": "code",
   "execution_count": 62,
   "metadata": {},
   "outputs": [
    {
     "name": "stdout",
     "output_type": "stream",
     "text": [
      "name : 홍길동\n",
      "age : 20\n"
     ]
    }
   ],
   "source": [
    "dic = {'name' : '홍길동', 'age' : 20}\n",
    "\n",
    "func(name = '홍길동', age = 20)"
   ]
  },
  {
   "cell_type": "code",
   "execution_count": 63,
   "metadata": {},
   "outputs": [
    {
     "name": "stdout",
     "output_type": "stream",
     "text": [
      "gameName : 서바이벌C\n",
      "year : 2024\n",
      "price : 33000\n"
     ]
    }
   ],
   "source": [
    "func(gameName = '서바이벌C', year = 2024, price = 33000)"
   ]
  },
  {
   "cell_type": "markdown",
   "metadata": {},
   "source": [
    "### 3.4 함수 정의시 매개변수 순서\n",
    "    - 순서인수 > 튜플인수(*) > 키워드인수(매개변수 이름을 명시) > 딕셔너리 인수(**)"
   ]
  },
  {
   "cell_type": "code",
   "execution_count": 64,
   "metadata": {},
   "outputs": [],
   "source": [
    "def func(a, b, c, *d, e=10, **f):\n",
    "    print('a = ', a)\n",
    "    print('b = ', b)\n",
    "    print('c = ', c)\n",
    "    print('d = ', d)\n",
    "    print('e = ', e)\n",
    "    print('f = ', f)"
   ]
  },
  {
   "cell_type": "code",
   "execution_count": 65,
   "metadata": {},
   "outputs": [
    {
     "name": "stdout",
     "output_type": "stream",
     "text": [
      "a =  10\n",
      "b =  20\n",
      "c =  30\n",
      "d =  (1, 2, 3, 4, 5)\n",
      "e =  20\n",
      "f =  {'height': 180, 'name': '홍길동'}\n"
     ]
    }
   ],
   "source": [
    "func(10,20,30,1,2,3,4,5,e=20,height = 180, name = '홍길동')"
   ]
  },
  {
   "cell_type": "markdown",
   "metadata": {},
   "source": [
    "### 3.5 인수의 언패킹\n",
    "    - 튜플 인수 언패킹"
   ]
  },
  {
   "cell_type": "code",
   "execution_count": null,
   "metadata": {},
   "outputs": [],
   "source": [
    "# args 앞에 * : args가 튜플로 전달\n",
    "def add(*args):\n",
    "    # print('전달받은 args = {}'.format(args))\n",
    "    # print(type(args))\n",
    "    sum = 0\n",
    "    for num in args:\n",
    "        sum += num\n",
    "    \n",
    "    return sum"
   ]
  },
  {
   "cell_type": "code",
   "execution_count": null,
   "metadata": {},
   "outputs": [],
   "source": [
    "data = (1,2,3)\n",
    "add(*data)"
   ]
  },
  {
   "cell_type": "code",
   "execution_count": 67,
   "metadata": {},
   "outputs": [],
   "source": [
    "def func(**args):\n",
    "    # print(args)\n",
    "    # print(type(args))\n",
    "    for key, value in args.items():\n",
    "        print(\"{} : {}\".format(key, value))"
   ]
  },
  {
   "cell_type": "code",
   "execution_count": 68,
   "metadata": {},
   "outputs": [
    {
     "name": "stdout",
     "output_type": "stream",
     "text": [
      "name : 홍길동\n",
      "age : 20\n"
     ]
    }
   ],
   "source": [
    "dic = {'name' : '홍길동', 'age' : 20}\n",
    "func(**dic)"
   ]
  },
  {
   "cell_type": "markdown",
   "metadata": {},
   "source": [
    "## 4절. 람다식\n",
    "    - 람다식은 작은 익명함수를 의미함\n",
    "    - 실행할 문장을 한문장만 작성할 수 있음 \n",
    "    - 리스트 컴프리헨션과 같이 참조해서 학습 추천\n",
    "    - ex. map(), filter()에서 사용할 예정\n"
   ]
  },
  {
   "cell_type": "code",
   "execution_count": 69,
   "metadata": {},
   "outputs": [
    {
     "data": {
      "text/plain": [
       "8"
      ]
     },
     "execution_count": 69,
     "metadata": {},
     "output_type": "execute_result"
    }
   ],
   "source": [
    "# 일반함수\n",
    "def add(a,b):\n",
    "    return a+b\n",
    "\n",
    "add(3, 5)"
   ]
  },
  {
   "cell_type": "code",
   "execution_count": 70,
   "metadata": {},
   "outputs": [
    {
     "data": {
      "text/plain": [
       "function"
      ]
     },
     "execution_count": 70,
     "metadata": {},
     "output_type": "execute_result"
    }
   ],
   "source": [
    "type(add)"
   ]
  },
  {
   "cell_type": "code",
   "execution_count": 72,
   "metadata": {},
   "outputs": [
    {
     "data": {
      "text/plain": [
       "<function __main__.<lambda>(a, b)>"
      ]
     },
     "execution_count": 72,
     "metadata": {},
     "output_type": "execute_result"
    }
   ],
   "source": [
    "add = lambda a, b : a+ b\n",
    "add"
   ]
  },
  {
   "cell_type": "code",
   "execution_count": 73,
   "metadata": {},
   "outputs": [
    {
     "data": {
      "text/plain": [
       "11"
      ]
     },
     "execution_count": 73,
     "metadata": {},
     "output_type": "execute_result"
    }
   ],
   "source": [
    "(lambda a, b : a + b)(5, 6)\n",
    "# 함수를 만들지 않고도 사용할 수 있음"
   ]
  },
  {
   "cell_type": "code",
   "execution_count": 75,
   "metadata": {},
   "outputs": [
    {
     "data": {
      "text/plain": [
       "9"
      ]
     },
     "execution_count": 75,
     "metadata": {},
     "output_type": "execute_result"
    }
   ],
   "source": [
    "f = lambda x : x**2\n",
    "f(3)"
   ]
  },
  {
   "cell_type": "code",
   "execution_count": 77,
   "metadata": {},
   "outputs": [],
   "source": [
    "def map_template(func, L = [] ):\n",
    "    result = []\n",
    "    for data in L:\n",
    "        result = []\n",
    "        for data in L:\n",
    "            result.append(func(data))\n",
    "    \n",
    "    return result"
   ]
  },
  {
   "cell_type": "code",
   "execution_count": 80,
   "metadata": {},
   "outputs": [
    {
     "data": {
      "text/plain": [
       "[1, 4, 9, 16, 25]"
      ]
     },
     "execution_count": 80,
     "metadata": {},
     "output_type": "execute_result"
    }
   ],
   "source": [
    "list_data = [1,2,3,4,5]\n",
    "map_template(lambda x : x**2, list_data)"
   ]
  },
  {
   "cell_type": "code",
   "execution_count": 82,
   "metadata": {},
   "outputs": [
    {
     "data": {
      "text/plain": [
       "[2, 4, 6, 8, 10]"
      ]
     },
     "execution_count": 82,
     "metadata": {},
     "output_type": "execute_result"
    }
   ],
   "source": [
    "list(map(lambda x : x * 2 , list_data))"
   ]
  },
  {
   "cell_type": "code",
   "execution_count": 83,
   "metadata": {},
   "outputs": [
    {
     "data": {
      "text/plain": [
       "[2, 4, 6, 8, 10]"
      ]
     },
     "execution_count": 83,
     "metadata": {},
     "output_type": "execute_result"
    }
   ],
   "source": [
    "# 리스트 컴프리헨션 이용\n",
    "[x * 2 for x in list_data]"
   ]
  },
  {
   "cell_type": "code",
   "execution_count": 89,
   "metadata": {},
   "outputs": [],
   "source": [
    "list_data = [1,2,3,4,5]"
   ]
  },
  {
   "cell_type": "code",
   "execution_count": 90,
   "metadata": {},
   "outputs": [],
   "source": [
    "def filter_template(func, L=[]):\n",
    "    result = []\n",
    "    for data in L:\n",
    "        if func(data):\n",
    "            result.append(data)\n",
    "\n",
    "    return result"
   ]
  },
  {
   "cell_type": "code",
   "execution_count": 92,
   "metadata": {},
   "outputs": [
    {
     "data": {
      "text/plain": [
       "[2, 4]"
      ]
     },
     "execution_count": 92,
     "metadata": {},
     "output_type": "execute_result"
    }
   ],
   "source": [
    "filter_template(lambda x: x % 2 == 0, list_data)"
   ]
  },
  {
   "cell_type": "code",
   "execution_count": 94,
   "metadata": {},
   "outputs": [
    {
     "data": {
      "text/plain": [
       "[2, 4]"
      ]
     },
     "execution_count": 94,
     "metadata": {},
     "output_type": "execute_result"
    }
   ],
   "source": [
    "list(filter(lambda x : x % 2 == 0, list_data))"
   ]
  },
  {
   "cell_type": "code",
   "execution_count": 95,
   "metadata": {},
   "outputs": [
    {
     "data": {
      "text/plain": [
       "[2, 4]"
      ]
     },
     "execution_count": 95,
     "metadata": {},
     "output_type": "execute_result"
    }
   ],
   "source": [
    "# 리스트 컴프리헨션 이용\n",
    "[x for x in list_data if x%2 == 0]"
   ]
  },
  {
   "cell_type": "markdown",
   "metadata": {},
   "source": [
    "## 5절. 파이썬 내장함수\n",
    "    -print처럼 import 하지 않고 즉시 사용 가능한 경우"
   ]
  },
  {
   "cell_type": "markdown",
   "metadata": {},
   "source": [
    "## 6절, 연습문제"
   ]
  },
  {
   "cell_type": "code",
   "execution_count": 103,
   "metadata": {},
   "outputs": [],
   "source": [
    "def get_max_min(data_list):\n",
    "    max_ = max(data_list)\n",
    "    min_ = min(data_list)    \n",
    "    return max_, min_\n"
   ]
  },
  {
   "cell_type": "code",
   "execution_count": 104,
   "metadata": {},
   "outputs": [
    {
     "data": {
      "text/plain": [
       "[1, 2, '짝', 4, 5, '짝', 7, 8, '짝', '짝', 20, '짝짝', '짝짝짝짝짝짝짝짝짝짝짝짝']"
      ]
     },
     "execution_count": 104,
     "metadata": {},
     "output_type": "execute_result"
    }
   ],
   "source": [
    "def game_369(data_list):\n",
    "    result = []\n",
    "    for i in data_list:\n",
    "        count369 = str(i).count('3') + str(i).count('6') + str(i).count('9')\n",
    "        if count369:\n",
    "            result.append('짝'*count369)\n",
    "        else:\n",
    "            result.append(i)\n",
    "\n",
    "    return result\n",
    "\n",
    "game_369([1,2,3,4,5,6,7,8,9,13,20,33,369369369396])"
   ]
  },
  {
   "cell_type": "code",
   "execution_count": 102,
   "metadata": {},
   "outputs": [
    {
     "data": {
      "text/plain": [
       "[1, 2, '짝', 4, 5, '짝', 7, 8, '짝', '짝', 20, '짝짝']"
      ]
     },
     "execution_count": 102,
     "metadata": {},
     "output_type": "execute_result"
    }
   ],
   "source": [
    "def game_369(*args):\n",
    "    result = []\n",
    "    for i in args:\n",
    "        count369 = str(i).count('3') + str(i).count('6') + str(i).count('9')\n",
    "        if count369:\n",
    "            result.append('짝'*count369)\n",
    "        else:\n",
    "            result.append(i)\n",
    "\n",
    "    return result\n",
    "\n",
    "game_369(1,2,3,4,5,6,7,8,9,13,20,33)"
   ]
  }
 ],
 "metadata": {
  "kernelspec": {
   "display_name": "Python 3 (ipykernel)",
   "language": "python",
   "name": "python3"
  }
 },
 "nbformat": 4,
 "nbformat_minor": 2
}
