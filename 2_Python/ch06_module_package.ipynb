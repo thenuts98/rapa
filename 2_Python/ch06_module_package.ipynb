{
 "cells": [
  {
   "cell_type": "markdown",
   "metadata": {},
   "source": [
    "## 1절. 모듈 사용하기"
   ]
  },
  {
   "cell_type": "code",
   "execution_count": 18,
   "metadata": {},
   "outputs": [],
   "source": [
    "import os, sys\n",
    "sys.path.append('C:\\\\IVS\\\\C_Python\\\\2_Python\\\\')"
   ]
  },
  {
   "cell_type": "markdown",
   "metadata": {},
   "source": [
    "## 2절. 사용자 정의 모듈\n",
    "\n",
    "```\n",
    "1. import A : A 모듈을 가져옴\n",
    "2. import A as B : A 모듈을 B라는 이름으로 가져옴\n",
    "3. from A import B : A 모듈에서 B 함수를 가져옴\n",
    "4. from A import B as C : A 모듈 안 B 함수를 C라는 이름으로 가져옴\n",
    "5. from A.B import C : A 패키지 안 B 모듈 안 C 함수를 가져옴\n",
    "6. from A.B import C as D : A 패키지 B 모듈의 C 함수를 D라는 이름으로 가져옴\n",
    "```\n"
   ]
  },
  {
   "cell_type": "code",
   "execution_count": 23,
   "metadata": {},
   "outputs": [
    {
     "name": "stdout",
     "output_type": "stream",
     "text": [
      "0\t1\t1\t2\t3\t5\t8\t"
     ]
    }
   ],
   "source": [
    "import fibonacci\n",
    "fibonacci.fibonacci(9)"
   ]
  },
  {
   "cell_type": "code",
   "execution_count": 24,
   "metadata": {},
   "outputs": [
    {
     "name": "stdout",
     "output_type": "stream",
     "text": [
      "0\t1\t1\t2\t3\t5\t8\t"
     ]
    }
   ],
   "source": [
    "import fibonacci as fibo\n",
    "fibo.fibonacci(9)"
   ]
  },
  {
   "cell_type": "code",
   "execution_count": 28,
   "metadata": {},
   "outputs": [
    {
     "name": "stdout",
     "output_type": "stream",
     "text": [
      "0\t1\t1\t2\t3\t5\t8\t13\t21\t34\t55\t89\t"
     ]
    }
   ],
   "source": [
    "from fibonacci import fibonacci as fibo\n",
    "\n",
    "fibo(100)"
   ]
  },
  {
   "cell_type": "code",
   "execution_count": 42,
   "metadata": {},
   "outputs": [
    {
     "data": {
      "text/plain": [
       "['__builtins__',\n",
       " '__cached__',\n",
       " '__doc__',\n",
       " '__file__',\n",
       " '__loader__',\n",
       " '__name__',\n",
       " '__package__',\n",
       " '__spec__',\n",
       " 'fibonacci']"
      ]
     },
     "execution_count": 42,
     "metadata": {},
     "output_type": "execute_result"
    }
   ],
   "source": [
    "import fibonacci\n",
    "dir(fibonacci)"
   ]
  }
 ],
 "metadata": {
  "kernelspec": {
   "display_name": "Python 3 (ipykernel)",
   "language": "python",
   "name": "python3"
  }
 },
 "nbformat": 4,
 "nbformat_minor": 2
}
