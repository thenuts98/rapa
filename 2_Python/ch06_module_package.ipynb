{
 "cells": [
  {
   "cell_type": "markdown",
   "metadata": {},
   "source": [
    "## 1절. 모듈 사용하기"
   ]
  },
  {
   "cell_type": "code",
   "execution_count": 18,
   "metadata": {},
   "outputs": [],
   "source": [
    "import os, sys\n",
    "sys.path.append('C:\\\\IVS\\\\C_Python\\\\2_Python\\\\')"
   ]
  },
  {
   "cell_type": "markdown",
   "metadata": {},
   "source": [
    "## 2절. 사용자 정의 모듈\n",
    "\n",
    "```\n",
    "1. import A : A 모듈을 가져옴\n",
    "2. import A as B : A 모듈을 B라는 이름으로 가져옴\n",
    "3. from A import B : A 모듈에서 B 함수를 가져옴\n",
    "```\n"
   ]
  },
  {
   "cell_type": "code",
   "execution_count": 23,
   "metadata": {},
   "outputs": [
    {
     "name": "stdout",
     "output_type": "stream",
     "text": [
      "0\t1\t1\t2\t3\t5\t8\t"
     ]
    }
   ],
   "source": [
    "import fibonacci\n",
    "fibonacci.fibonacci(9)"
   ]
  },
  {
   "cell_type": "code",
   "execution_count": 24,
   "metadata": {},
   "outputs": [
    {
     "name": "stdout",
     "output_type": "stream",
     "text": [
      "0\t1\t1\t2\t3\t5\t8\t"
     ]
    }
   ],
   "source": [
    "import fibonacci as fibo\n",
    "fibo.fibonacci(9)"
   ]
  },
  {
   "cell_type": "code",
   "execution_count": 28,
   "metadata": {},
   "outputs": [
    {
     "name": "stdout",
     "output_type": "stream",
     "text": [
      "0\t1\t1\t2\t3\t5\t8\t13\t21\t34\t55\t89\t"
     ]
    }
   ],
   "source": [
    "from fibonacci import fibonacci as fibo\n",
    "\n",
    "fibo(100)"
   ]
  },
  {
   "cell_type": "code",
   "execution_count": 33,
   "metadata": {},
   "outputs": [
    {
     "name": "stdout",
     "output_type": "stream",
     "text": [
      "1\n",
      "4\n",
      "2.0\n",
      "1.0\n",
      "4.0\n",
      "2.0\n",
      "1.0\n",
      "4.0\n",
      "2.0\n",
      "1.0\n",
      "4.0\n",
      "2.0\n",
      "1.0\n",
      "4.0\n",
      "2.0\n",
      "1.0\n",
      "4.0\n",
      "2.0\n",
      "1.0\n",
      "4.0\n",
      "2.0\n",
      "1.0\n",
      "4.0\n",
      "2.0\n",
      "1.0\n",
      "4.0\n",
      "2.0\n",
      "1.0\n",
      "4.0\n",
      "2.0\n",
      "1.0\n",
      "4.0\n",
      "2.0\n",
      "1.0\n",
      "4.0\n",
      "2.0\n",
      "1.0\n",
      "4.0\n",
      "2.0\n",
      "1.0\n",
      "4.0\n",
      "2.0\n",
      "1.0\n",
      "4.0\n",
      "2.0\n",
      "1.0\n",
      "4.0\n",
      "2.0\n",
      "1.0\n",
      "4.0\n",
      "2.0\n",
      "1.0\n",
      "4.0\n",
      "2.0\n",
      "1.0\n",
      "4.0\n",
      "2.0\n",
      "1.0\n",
      "4.0\n",
      "2.0\n",
      "1.0\n",
      "4.0\n",
      "2.0\n",
      "1.0\n",
      "4.0\n",
      "2.0\n",
      "1.0\n",
      "4.0\n",
      "2.0\n",
      "1.0\n",
      "4.0\n",
      "2.0\n",
      "1.0\n",
      "4.0\n",
      "2.0\n",
      "1.0\n",
      "4.0\n",
      "2.0\n",
      "1.0\n",
      "4.0\n",
      "2.0\n",
      "1.0\n",
      "4.0\n",
      "2.0\n",
      "1.0\n",
      "4.0\n",
      "2.0\n",
      "1.0\n",
      "4.0\n",
      "2.0\n",
      "1.0\n",
      "4.0\n",
      "2.0\n",
      "1.0\n",
      "4.0\n",
      "2.0\n",
      "1.0\n",
      "4.0\n",
      "2.0\n",
      "1.0\n"
     ]
    }
   ],
   "source": [
    "def collats(n):\n",
    "    col = 1\n",
    "    for i in range(n):\n",
    "        print(col)\n",
    "        if col % 2 == 0:\n",
    "            col /= 2\n",
    "        else:\n",
    "            col = col * 3 + 1\n",
    "\n",
    "collats(100)"
   ]
  }
 ],
 "metadata": {
  "kernelspec": {
   "display_name": "Python 3 (ipykernel)",
   "language": "python",
   "name": "python3"
  },
  "language_info": {
   "codemirror_mode": {
    "name": "ipython",
    "version": 3
   },
   "file_extension": ".py",
   "mimetype": "text/x-python",
   "name": "python",
   "nbconvert_exporter": "python",
   "pygments_lexer": "ipython3",
   "version": "3.11.7"
  }
 },
 "nbformat": 4,
 "nbformat_minor": 2
}
