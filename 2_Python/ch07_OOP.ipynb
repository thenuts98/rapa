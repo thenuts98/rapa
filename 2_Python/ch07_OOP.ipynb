{
 "cells": [
  {
   "cell_type": "markdown",
   "metadata": {},
   "source": [
    "# ch07. 객체지향 프로그래밍"
   ]
  },
  {
   "cell_type": "markdown",
   "metadata": {},
   "source": [
    "## 1절. 객체와 클래스\n",
    "```\n",
    "class 클래스명(상속받을 클래스명):\n",
    "    변수나 함수들을 선언\n",
    "```"
   ]
  },
  {
   "cell_type": "code",
   "execution_count": null,
   "metadata": {},
   "outputs": [],
   "source": [
    "class Person:\n",
    "    \"\"\"\n",
    "    클래스는 어쩌구 저쩌구\n",
    "    \"\"\"\n",
    "    pass\n",
    "\n",
    "p1 = Person()"
   ]
  },
  {
   "cell_type": "code",
   "execution_count": 27,
   "metadata": {},
   "outputs": [],
   "source": [
    "class Person:\n",
    "    def __init__(self, name='홍길동', gender='남자'): # 생성자 함수\n",
    "        self.name = name\n",
    "        self.gender = gender\n",
    "        print(\"{}, {} Person 객체가 생성되었습니다.\".format(self.name, self.gender))\n",
    "    def print_info(self):\n",
    "        print(\"{}님은 {}입니다.\".format(self.name, self.gender))\n",
    "    def print_cnt(self, cnt):\n",
    "        for i in range(cnt):\n",
    "            print(self.name, end='\\t')\n",
    "    def __str__(self):\n",
    "        return \"{}\\t 성별은 {}\".format(self.name, self.gender)"
   ]
  },
  {
   "cell_type": "code",
   "execution_count": 16,
   "metadata": {},
   "outputs": [
    {
     "name": "stdout",
     "output_type": "stream",
     "text": [
      "성춘향, 여자 Person 객체가 생성되었습니다.\n",
      "성춘향님은 여자입니다.\n",
      "성춘향\t성춘향\t성춘향\t"
     ]
    }
   ],
   "source": [
    "p1 = Person(\"성춘향\", \"여자\")\n",
    "p1.print_info()\n",
    "p1.print_cnt(3)"
   ]
  },
  {
   "cell_type": "code",
   "execution_count": 14,
   "metadata": {},
   "outputs": [
    {
     "name": "stdout",
     "output_type": "stream",
     "text": [
      "<__main__.Person object at 0x00000190B142D690>\n"
     ]
    }
   ],
   "source": [
    "print(p1)"
   ]
  },
  {
   "cell_type": "markdown",
   "metadata": {},
   "source": [
    "## 2절. 상속과 재정의"
   ]
  },
  {
   "cell_type": "code",
   "execution_count": 33,
   "metadata": {},
   "outputs": [],
   "source": [
    "class Student(Person):\n",
    "    \"\"\"\n",
    "    name, gender, major 멤버변수를 갖는 Student 타입\n",
    "    \"\"\"\n",
    "    def __init__(self, name, gender, major):\n",
    "        # 부모클래스의 생성자 함수로 name, gender 초기화\n",
    "        super().__init__(name, gender)\n",
    "        # Person.__init__(name,gender)\n",
    "        self.major = major\n",
    "    \n",
    "    def print_info(self):\n",
    "        super().print_info()\n",
    "        print(\"그리고 전공은 {}입니다.\".format(self.major))\n",
    "    def __str__(self):\n",
    "        return super().__str__() + \"\\t전공은 {}\".format(self.major)"
   ]
  },
  {
   "cell_type": "code",
   "execution_count": 34,
   "metadata": {},
   "outputs": [
    {
     "name": "stdout",
     "output_type": "stream",
     "text": [
      "김철수, 남자 Person 객체가 생성되었습니다.\n",
      "김철수님은 남자입니다.\n",
      "그리고 전공은 컴공입니다.\n",
      "김철수\t 성별은 남자\t전공은 컴공\n"
     ]
    }
   ],
   "source": [
    "s1 = Student(\"김철수\", \"남자\", '컴공')\n",
    "\n",
    "s1.print_info()\n",
    "\n",
    "print(s1.__str__())"
   ]
  },
  {
   "cell_type": "code",
   "execution_count": 35,
   "metadata": {},
   "outputs": [
    {
     "name": "stdout",
     "output_type": "stream",
     "text": [
      "김철수\t김철수\t김철수\t김철수\t김철수\t"
     ]
    }
   ],
   "source": [
    "s1.print_cnt(5)"
   ]
  },
  {
   "cell_type": "code",
   "execution_count": 36,
   "metadata": {},
   "outputs": [
    {
     "name": "stdout",
     "output_type": "stream",
     "text": [
      "김철수\t 성별은 남자\t전공은 컴공\n"
     ]
    }
   ],
   "source": [
    "print(s1)"
   ]
  },
  {
   "cell_type": "markdown",
   "metadata": {},
   "source": [
    "## 3절. 연습문제"
   ]
  },
  {
   "cell_type": "code",
   "execution_count": 41,
   "metadata": {},
   "outputs": [],
   "source": [
    "class Shape:\n",
    "    def __init__(self, width=0, height=0):\n",
    "        self.width = width\n",
    "        self.height = height\n",
    "\n",
    "    def modify(self, width=width, height):\n",
    "        self.width = width\n",
    "        self.height = height\n",
    "\n",
    "    def __str__(self):\n",
    "        return \"width : {}, height : {}\".format(self.width, self.height)\n",
    "    \n",
    "    def calc_area(self):\n",
    "        return self.width * self.height"
   ]
  }
 ],
 "metadata": {
  "kernelspec": {
   "display_name": "Python 3 (ipykernel)",
   "language": "python",
   "name": "python3"
  },
  "language_info": {
   "codemirror_mode": {
    "name": "ipython",
    "version": 3
   },
   "file_extension": ".py",
   "mimetype": "text/x-python",
   "name": "python",
   "nbconvert_exporter": "python",
   "pygments_lexer": "ipython3",
   "version": "3.11.7"
  }
 },
 "nbformat": 4,
 "nbformat_minor": 2
}
