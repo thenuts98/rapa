{
 "cells": [
  {
   "cell_type": "markdown",
   "metadata": {},
   "source": [
    "# ch04. 제어문\n",
    "    - if문, for문, while문"
   ]
  },
  {
   "cell_type": "markdown",
   "metadata": {},
   "source": [
    "## 1절. if문"
   ]
  },
  {
   "cell_type": "code",
   "execution_count": 1,
   "metadata": {},
   "outputs": [],
   "source": [
    "# 점수를 입력받아 학점을 출력하기\n",
    "name = \"홍길동\"\n",
    "score = int(input(name + \"님, 학점을 입력해주세요 : \"))\n",
    "# format은 print() 안에서만 입력 가능"
   ]
  },
  {
   "cell_type": "code",
   "execution_count": 2,
   "metadata": {},
   "outputs": [
    {
     "name": "stdout",
     "output_type": "stream",
     "text": [
      "입력하신 점수는 12점이고, F입니다.\n"
     ]
    }
   ],
   "source": [
    "if 90<= score <= 100:\n",
    "    grade = 'A'\n",
    "elif 80<= score < 90:\n",
    "    grade = 'B'\n",
    "elif 70<= score < 80:\n",
    "    grade = 'C'\n",
    "elif 60<= score < 70:\n",
    "    grade = 'D'\n",
    "elif 0<= score < 60:\n",
    "    grade = 'F'\n",
    "else:\n",
    "    grade = '유효하지 않은 점수'\n",
    "\n",
    "print('입력하신 점수는 {}점이고, {}입니다.'.format(score, grade))"
   ]
  },
  {
   "cell_type": "markdown",
   "metadata": {},
   "source": [
    "## 2절. for-in문\n",
    "```Python\n",
    "for 변수 in 나열이 가능한 자료형:\n",
    "    반복할 문장1\n",
    "    반복할 문장2\n",
    "    break\n",
    "    ...\n",
    "else:\n",
    "    변수에 값이 할당되지 않은 경우 한번 실행할 문장(else구문 선택사항)\n",
    "```\n"
   ]
  },
  {
   "cell_type": "code",
   "execution_count": 3,
   "metadata": {},
   "outputs": [
    {
     "data": {
      "text/plain": [
       "[1, 3, 5, 7, 9]"
      ]
     },
     "execution_count": 3,
     "metadata": {},
     "output_type": "execute_result"
    }
   ],
   "source": [
    "list(range(1,10,2))"
   ]
  },
  {
   "cell_type": "code",
   "execution_count": 4,
   "metadata": {},
   "outputs": [
    {
     "name": "stdout",
     "output_type": "stream",
     "text": [
      "34243224702511976248246432895208185975118675053719198827915654463488000000000000\n"
     ]
    }
   ],
   "source": [
    "# 1 ~ 100까지 짝수의 곱을 계싼하고 출력하시오\n",
    "sum = 1 # 누적 변수\n",
    "for i in range(1, 101):\n",
    "    if i % 2 == 0:\n",
    "        sum *= i\n",
    "\n",
    "\n",
    "print(sum)"
   ]
  },
  {
   "cell_type": "code",
   "execution_count": 5,
   "metadata": {},
   "outputs": [
    {
     "name": "stdout",
     "output_type": "stream",
     "text": [
      "1부터 3까지의 누적합은 1\n"
     ]
    }
   ],
   "source": [
    "# 사용자에게 두 수를 입력받아 첫번째 수부터 두번째 입력한 수까지 홀수의 합 누적해서 출력\n",
    "\n",
    "n1, n2 = map(int, input(\"두 정수를 입력해주세요 : \").split())\n",
    "sum = 0\n",
    "\n",
    "i = n1\n",
    "while i < n2:\n",
    "    if i % 2 != 0:\n",
    "        sum += i\n",
    "\n",
    "    i+=1\n",
    "print(\"{1}부터 {2}까지의 누적합은 {0}\".format(sum, n1, n2))"
   ]
  },
  {
   "cell_type": "markdown",
   "metadata": {},
   "source": [
    "## 4절. break, continue"
   ]
  },
  {
   "cell_type": "code",
   "execution_count": 6,
   "metadata": {},
   "outputs": [
    {
     "name": "stdout",
     "output_type": "stream",
     "text": [
      "num = 1\tnum = 2\tnum = 3\tnum = 4\tnum = 5\tnum = 6\tnum = 7\tnum = 8\tnum = 9\tnum = 10\tnum = 11\t"
     ]
    }
   ],
   "source": [
    "num = 0\n",
    "while num<=10:\n",
    "    num += 1\n",
    "    print(\"num = {}\".format(num), end='\\t')"
   ]
  },
  {
   "cell_type": "markdown",
   "metadata": {},
   "source": [
    "## 5절. 이중 loop"
   ]
  },
  {
   "cell_type": "code",
   "execution_count": 7,
   "metadata": {},
   "outputs": [
    {
     "name": "stdout",
     "output_type": "stream",
     "text": [
      "2 x 1 =  2\t3 x 1 =  3\t4 x 1 =  4\t5 x 1 =  5\t6 x 1 =  6\t7 x 1 =  7\t8 x 1 =  8\t9 x 1 =  9\t\n",
      "2 x 2 =  4\t3 x 2 =  6\t4 x 2 =  8\t5 x 2 = 10\t6 x 2 = 12\t7 x 2 = 14\t8 x 2 = 16\t9 x 2 = 18\t\n",
      "2 x 3 =  6\t3 x 3 =  9\t4 x 3 = 12\t5 x 3 = 15\t6 x 3 = 18\t7 x 3 = 21\t8 x 3 = 24\t9 x 3 = 27\t\n",
      "2 x 4 =  8\t3 x 4 = 12\t4 x 4 = 16\t5 x 4 = 20\t6 x 4 = 24\t7 x 4 = 28\t8 x 4 = 32\t9 x 4 = 36\t\n",
      "2 x 5 = 10\t3 x 5 = 15\t4 x 5 = 20\t5 x 5 = 25\t6 x 5 = 30\t7 x 5 = 35\t8 x 5 = 40\t9 x 5 = 45\t\n",
      "2 x 6 = 12\t3 x 6 = 18\t4 x 6 = 24\t5 x 6 = 30\t6 x 6 = 36\t7 x 6 = 42\t8 x 6 = 48\t9 x 6 = 54\t\n",
      "2 x 7 = 14\t3 x 7 = 21\t4 x 7 = 28\t5 x 7 = 35\t6 x 7 = 42\t7 x 7 = 49\t8 x 7 = 56\t9 x 7 = 63\t\n",
      "2 x 8 = 16\t3 x 8 = 24\t4 x 8 = 32\t5 x 8 = 40\t6 x 8 = 48\t7 x 8 = 56\t8 x 8 = 64\t9 x 8 = 72\t\n",
      "2 x 9 = 18\t3 x 9 = 27\t4 x 9 = 36\t5 x 9 = 45\t6 x 9 = 54\t7 x 9 = 63\t8 x 9 = 72\t9 x 9 = 81\t\n"
     ]
    }
   ],
   "source": [
    "for i in range(1, 10):\n",
    "    for j in range(2, 10):\n",
    "        print(\"{} x {} = {:>2}\".format(j, i, i*j), end='\\t')\n",
    "    print()"
   ]
  },
  {
   "cell_type": "markdown",
   "metadata": {},
   "source": [
    "## 6절. 연습문제"
   ]
  },
  {
   "cell_type": "code",
   "execution_count": 8,
   "metadata": {},
   "outputs": [
    {
     "name": "stdout",
     "output_type": "stream",
     "text": [
      "74\n"
     ]
    }
   ],
   "source": [
    "\n",
    "import random\n",
    "\n",
    "num = random.randint(1, 100)\n",
    "print(num)"
   ]
  },
  {
   "cell_type": "code",
   "execution_count": 9,
   "metadata": {},
   "outputs": [],
   "source": [
    "# 방법1. 1~100끼지 컴퓨터가 발생한 난수 알아맞추기"
   ]
  },
  {
   "cell_type": "code",
   "execution_count": 21,
   "metadata": {},
   "outputs": [
    {
     "name": "stdout",
     "output_type": "stream",
     "text": [
      "1 ~ 100의 숫자를 입력하세요 : \n",
      "UP\n",
      "2 ~ 100의 숫자를 입력하세요 : \n",
      "UP\n",
      "3 ~ 100의 숫자를 입력하세요 : \n",
      "UP\n",
      "4 ~ 100의 숫자를 입력하세요 : \n",
      "UP\n",
      "5 ~ 100의 숫자를 입력하세요 : \n",
      "UP\n",
      "실패입니다.\n"
     ]
    }
   ],
   "source": [
    "# 방법2. 1~100까지 컴퓨터가 발생한 난수를 5번 이내로 알아맞추기(최소값, 최대값 줄여가며 출력)\n",
    "#   5번 기회 이내로 알아맞추지 못할시 \"실패했습니다\" 출력\n",
    "i = 0\n",
    "min = 1\n",
    "max = 100\n",
    "while( i < 5):\n",
    "    i += 1\n",
    "    print(\"{} ~ {}의 숫자를 입력하세요 : \".format(min, max))\n",
    "    ans = int(input())\n",
    "    if ans < min or ans > max:\n",
    "        print(\"잘못 입력하셨습니다.\")\n",
    "        i -= 1\n",
    "    elif ans > num:\n",
    "        print(\"DOWN\")\n",
    "        max = ans - 1\n",
    "    elif ans < num:\n",
    "        print(\"UP\")\n",
    "        min = ans + 1\n",
    "    else:\n",
    "        print(\"정답입니다.\")\n",
    "        break\n",
    "if i == 5:\n",
    "    print('실패입니다.')"
   ]
  },
  {
   "cell_type": "code",
   "execution_count": 28,
   "metadata": {},
   "outputs": [
    {
     "name": "stdout",
     "output_type": "stream",
     "text": [
      "[2, 7, 8, 16, 29, 34]\n"
     ]
    }
   ],
   "source": [
    "#2. 중복되지 않은 로또 번호를 오름차순 정렬하여 출력하시오\n",
    "# (set.add)\n",
    "\n",
    "lotto = set()\n",
    "while len(lotto) < 6:\n",
    "    lotto.add(random.randint(1,45))\n",
    "\n",
    "lotto = list(lotto)\n",
    "\n",
    "lotto.sort()\n",
    "\n",
    "print(lotto)"
   ]
  }
 ],
 "metadata": {
  "kernelspec": {
   "display_name": "Python 3 (ipykernel)",
   "language": "python",
   "name": "python3"
  }
 },
 "nbformat": 4,
 "nbformat_minor": 2
}
