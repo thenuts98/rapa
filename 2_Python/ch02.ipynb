{
 "cells": [
  {
   "cell_type": "markdown",
   "metadata": {},
   "source": [
    "# ch02. 자료형과 연산자\n",
    "## 1절. 변수\n",
    "### 1.1 변수 선언\n",
    "- 별도의 변수 선언 과정 없음\n",
    "### 1.2 변수 할당\n",
    "- 대입 연산자(=) 사용\n"
   ]
  },
  {
   "cell_type": "code",
   "execution_count": 1,
   "metadata": {},
   "outputs": [
    {
     "name": "stdout",
     "output_type": "stream",
     "text": [
      "원주율의 값 : 3.141592653589793\n",
      "반지름이 r = 5인 원의 넓이 : 78.53981633974483\n",
      "area의 타입 :  <class 'float'>\n",
      "area의 주소 :  1987225193168\n"
     ]
    }
   ],
   "source": [
    "import numpy as np\n",
    "\n",
    "print(\"원주율의 값 :\", np.pi)\n",
    "r = 5\n",
    "area = np.pi * r * r\n",
    "print(\"반지름이 r = 5인 원의 넓이 :\", area)\n",
    "\n",
    "print(\"area의 타입 : \",type(area))\n",
    "print(\"area의 주소 : \", id(area))"
   ]
  },
  {
   "cell_type": "code",
   "execution_count": 2,
   "metadata": {},
   "outputs": [
    {
     "name": "stdout",
     "output_type": "stream",
     "text": [
      "area의 값 :  10\n",
      "area의 타입 :  <class 'int'>\n",
      "area의 주소 :  140720975627336\n"
     ]
    }
   ],
   "source": [
    "area = 10\n",
    "print(\"area의 값 : \", area)\n",
    "print(\"area의 타입 : \",type(area))\n",
    "print(\"area의 주소 : \", id(area))"
   ]
  },
  {
   "cell_type": "code",
   "execution_count": 3,
   "metadata": {},
   "outputs": [
    {
     "name": "stdout",
     "output_type": "stream",
     "text": [
      "area의 값 :  파이썬은 좋아요\n",
      "area의 타입 :  <class 'str'>\n",
      "area의 주소 :  1987226503088\n"
     ]
    }
   ],
   "source": [
    "area = \"파이썬은 좋아요\"\n",
    "print(\"area의 값 : \", area)\n",
    "print(\"area의 타입 : \",type(area))\n",
    "print(\"area의 주소 : \", id(area))"
   ]
  },
  {
   "cell_type": "markdown",
   "metadata": {},
   "source": [
    "파이썬의 경우 가비지 컬렉터를 통해 메모리를 관리하여 더이상 사용되지 않는 값은 자동으로 할당 해제하고 새로은 값, 타입이 변수에 주어질 경우 같은 변수명일지라도 다른 공간을 할당하여 처리한다.\n"
   ]
  },
  {
   "cell_type": "markdown",
   "metadata": {},
   "source": [
    "### 1.3 변수 이름 규칙\n",
    "- 문자(특수문자는 _ 제외하면 불가능), 숫자, _로 명명.\n",
    "- 문자로 시작 (숫자 시작 불가능).\n",
    "- 파이썬에서 제공하는 기본 함수명은 피하는 것이 좋음. 꼭 써야한다면 _를 활용.\n",
    "- 파이썬 예약어는 변수명으로 사용 불가.\n"
   ]
  },
  {
   "cell_type": "code",
   "execution_count": 4,
   "metadata": {},
   "outputs": [
    {
     "name": "stdout",
     "output_type": "stream",
     "text": [
      "<class 'complex'>\n"
     ]
    }
   ],
   "source": [
    "i = 1 + 3j\n",
    "print(type(i))"
   ]
  },
  {
   "cell_type": "code",
   "execution_count": 5,
   "metadata": {},
   "outputs": [
    {
     "name": "stdout",
     "output_type": "stream",
     "text": [
      "(10, 20)\n"
     ]
    }
   ],
   "source": [
    "a, b = 10, 20   # 다중 선언\n",
    "print(f'({a}, {b})')"
   ]
  },
  {
   "cell_type": "code",
   "execution_count": 6,
   "metadata": {},
   "outputs": [
    {
     "name": "stdout",
     "output_type": "stream",
     "text": [
      "(20, 30)\n"
     ]
    }
   ],
   "source": [
    "a, b = b, a+b\n",
    "print(f'({a}, {b})')"
   ]
  },
  {
   "cell_type": "markdown",
   "metadata": {},
   "source": [
    "### 1.4 도움말"
   ]
  },
  {
   "cell_type": "code",
   "execution_count": 7,
   "metadata": {},
   "outputs": [
    {
     "name": "stdout",
     "output_type": "stream",
     "text": [
      "\n"
     ]
    },
    {
     "name": "stdout",
     "output_type": "stream",
     "text": [
      "\u001b[1;31mSignature:\u001b[0m \u001b[0mprint\u001b[0m\u001b[1;33m(\u001b[0m\u001b[1;33m*\u001b[0m\u001b[0margs\u001b[0m\u001b[1;33m,\u001b[0m \u001b[0msep\u001b[0m\u001b[1;33m=\u001b[0m\u001b[1;34m' '\u001b[0m\u001b[1;33m,\u001b[0m \u001b[0mend\u001b[0m\u001b[1;33m=\u001b[0m\u001b[1;34m'\\n'\u001b[0m\u001b[1;33m,\u001b[0m \u001b[0mfile\u001b[0m\u001b[1;33m=\u001b[0m\u001b[1;32mNone\u001b[0m\u001b[1;33m,\u001b[0m \u001b[0mflush\u001b[0m\u001b[1;33m=\u001b[0m\u001b[1;32mFalse\u001b[0m\u001b[1;33m)\u001b[0m\u001b[1;33m\u001b[0m\u001b[1;33m\u001b[0m\u001b[0m\n",
      "\u001b[1;31mDocstring:\u001b[0m\n",
      "Prints the values to a stream, or to sys.stdout by default.\n",
      "\n",
      "sep\n",
      "  string inserted between values, default a space.\n",
      "end\n",
      "  string appended after the last value, default a newline.\n",
      "file\n",
      "  a file-like object (stream); defaults to the current sys.stdout.\n",
      "flush\n",
      "  whether to forcibly flush the stream.\n",
      "\u001b[1;31mType:\u001b[0m      builtin_function_or_method"
     ]
    }
   ],
   "source": [
    "#help(print)\n",
    "?print\n",
    "# 도움말 기능 : 함수 내에서 shift + tab 키\n",
    "# VSCode에서는 자동으로 나온다.\n",
    "print()"
   ]
  },
  {
   "cell_type": "code",
   "execution_count": 8,
   "metadata": {},
   "outputs": [
    {
     "name": "stdout",
     "output_type": "stream",
     "text": [
      "\u001b[1;31mSignature:\u001b[0m \u001b[0mmake_number\u001b[0m\u001b[1;33m(\u001b[0m\u001b[0mx\u001b[0m\u001b[1;33m,\u001b[0m \u001b[0my\u001b[0m\u001b[1;33m=\u001b[0m\u001b[1;36m0\u001b[0m\u001b[1;33m)\u001b[0m\u001b[1;33m\u001b[0m\u001b[1;33m\u001b[0m\u001b[0m\n",
      "\u001b[1;31mDocstring:\u001b[0m\n",
      "doc string(함수의 도움말)\n",
      "두 자리 정수 xy를 return합니다.\n",
      "십의 자리 : x\n",
      "일의 자리 : y (default = 0)\n",
      "\u001b[1;31mFile:\u001b[0m      c:\\users\\user\\appdata\\local\\temp\\ipykernel_3144\\741576358.py\n",
      "\u001b[1;31mType:\u001b[0m      function"
     ]
    }
   ],
   "source": [
    "def make_number(x, y  = 0):\n",
    "    \"\"\"doc string(함수의 도움말)\n",
    "    두 자리 정수 xy를 return합니다.\n",
    "    십의 자리 : x\n",
    "    일의 자리 : y (default = 0)\n",
    "    \"\"\"\n",
    "    return x*10+y;\n",
    "\n",
    "\n",
    "make_number(3,2)\n",
    "?make_number"
   ]
  },
  {
   "cell_type": "code",
   "execution_count": 9,
   "metadata": {},
   "outputs": [],
   "source": [
    "make = make_number"
   ]
  },
  {
   "cell_type": "code",
   "execution_count": 10,
   "metadata": {},
   "outputs": [
    {
     "ename": "NameError",
     "evalue": "name 'make' is not defined",
     "output_type": "error",
     "traceback": [
      "\u001b[1;31m---------------------------------------------------------------------------\u001b[0m",
      "\u001b[1;31mNameError\u001b[0m                                 Traceback (most recent call last)",
      "Cell \u001b[1;32mIn[10], line 2\u001b[0m\n\u001b[0;32m      1\u001b[0m \u001b[38;5;28;01mdel\u001b[39;00m make\n\u001b[1;32m----> 2\u001b[0m make(\u001b[38;5;241m6\u001b[39m)\n",
      "\u001b[1;31mNameError\u001b[0m: name 'make' is not defined"
     ]
    }
   ],
   "source": [
    "del make\n",
    "make(6)"
   ]
  },
  {
   "cell_type": "markdown",
   "metadata": {},
   "source": [
    "## 2절. 화면 입출력"
   ]
  },
  {
   "cell_type": "code",
   "execution_count": null,
   "metadata": {},
   "outputs": [
    {
     "name": "stdout",
     "output_type": "stream",
     "text": [
      "두 수의 합은 1020\n",
      "두 수의 합은 1020\n"
     ]
    }
   ],
   "source": [
    "first = input('첫번째 숫자는? : ') # 문자로 return\n",
    "second = input('두번쨰 숫자는? : ')"
   ]
  },
  {
   "cell_type": "code",
   "execution_count": null,
   "metadata": {},
   "outputs": [
    {
     "name": "stdout",
     "output_type": "stream",
     "text": [
      "두 수의 합은 1020\n",
      "두 수의 합은 1020\n"
     ]
    }
   ],
   "source": [
    "print(f'두 수의 합은 {first+second}')\n",
    "print('두 수의 합은 {}'.format(first+second))"
   ]
  },
  {
   "cell_type": "markdown",
   "metadata": {},
   "source": [
    "## 3절. 기본 자료형\n",
    "- 숫자 : int, float, complex\n",
    "- 문자 : str\n",
    "- 논리 : bool\n",
    "파이썬은 타입을 지칭하는 키워드가 없고, 변수 할당시 타입이 정해진다."
   ]
  },
  {
   "cell_type": "markdown",
   "metadata": {},
   "source": [
    "### 3.1 숫자형"
   ]
  },
  {
   "cell_type": "code",
   "execution_count": null,
   "metadata": {},
   "outputs": [
    {
     "name": "stdout",
     "output_type": "stream",
     "text": [
      "9223372036854775807\n"
     ]
    }
   ],
   "source": [
    "import sys # sys에서 값의 최대값이 정의되어 있다.\n",
    "print(sys.maxsize)"
   ]
  },
  {
   "cell_type": "code",
   "execution_count": null,
   "metadata": {},
   "outputs": [
    {
     "name": "stdout",
     "output_type": "stream",
     "text": [
      "값 : 9223372036854775817, 주소 : 2229694114256, 타입 : <class 'int'>\n"
     ]
    }
   ],
   "source": [
    "a = sys.maxsize + 10\n",
    "print(f'값 : {a}, 주소 : {id(a)}, 타입 : {type(a)}')\n",
    "# maxsize를 넘는 값도 처리가 가능하다."
   ]
  },
  {
   "cell_type": "code",
   "execution_count": null,
   "metadata": {},
   "outputs": [
    {
     "name": "stdout",
     "output_type": "stream",
     "text": [
      "값 : 1.5, 주소 : 2229701328816, 타입 : <class 'float'>\n"
     ]
    }
   ],
   "source": [
    "a = 3 / 2\n",
    "print(f'값 : {a}, 주소 : {id(a)}, 타입 : {type(a)}')\n",
    "# maxsize를 넘는 값도 처리가 가능하다."
   ]
  },
  {
   "cell_type": "code",
   "execution_count": null,
   "metadata": {},
   "outputs": [
    {
     "name": "stdout",
     "output_type": "stream",
     "text": [
      "값 : 1, 주소 : 140720975627048, 타입 : <class 'int'>\n"
     ]
    }
   ],
   "source": [
    "a = int(3/2) # 명시적 형변환\n",
    "a = 3 // 2 # c언어처럼 몫 연산자\n",
    "\n",
    "print(f'값 : {a}, 주소 : {id(a)}, 타입 : {type(a)}')"
   ]
  },
  {
   "cell_type": "code",
   "execution_count": null,
   "metadata": {},
   "outputs": [
    {
     "name": "stdout",
     "output_type": "stream",
     "text": [
      "값 : 1.12e+20, 주소 : 2229680869040, 타입 : <class 'float'>\n",
      "값 : 1.12e-20, 주소 : 2229703070672, 타입 : <class 'float'>\n"
     ]
    }
   ],
   "source": [
    "f = 1.12e+20\n",
    "print(f'값 : {f}, 주소 : {id(f)}, 타입 : {type(f)}')\n",
    "f = 1.12e-20\n",
    "print(f'값 : {f}, 주소 : {id(f)}, 타입 : {type(f)}')\n"
   ]
  },
  {
   "cell_type": "markdown",
   "metadata": {},
   "source": [
    "### 3.2 문자형\n"
   ]
  },
  {
   "cell_type": "code",
   "execution_count": null,
   "metadata": {},
   "outputs": [
    {
     "name": "stdout",
     "output_type": "stream",
     "text": [
      "홍길동 '님'\n",
      "홍길동 \"님\"\n",
      "'홍'길동 \"님\"\n",
      "서울시 금천구 가산디지털 1로\n"
     ]
    }
   ],
   "source": [
    "name = \"홍길동 '님'\"\n",
    "print(name)\n",
    "\n",
    "name = '홍길동 \"님\"'\n",
    "print(name)\n",
    "\n",
    "name = '\\'홍\\'길동 \"님\"'\n",
    "print(name)\n",
    "\n",
    "address = \"서울시 금천구 \\\n",
    "가산디지털 1로\" # 너무 길면 위와 같이 두줄로 처리 가능\n",
    "\n",
    "print(address)"
   ]
  },
  {
   "cell_type": "code",
   "execution_count": null,
   "metadata": {},
   "outputs": [],
   "source": [
    "# 문자열 슬라이싱\n",
    "str = '0123456789'"
   ]
  },
  {
   "cell_type": "code",
   "execution_count": null,
   "metadata": {},
   "outputs": [
    {
     "data": {
      "text/plain": [
       "'012'"
      ]
     },
     "execution_count": 76,
     "metadata": {},
     "output_type": "execute_result"
    }
   ],
   "source": [
    "str[0:3]"
   ]
  },
  {
   "cell_type": "code",
   "execution_count": null,
   "metadata": {},
   "outputs": [
    {
     "data": {
      "text/plain": [
       "'789'"
      ]
     },
     "execution_count": 87,
     "metadata": {},
     "output_type": "execute_result"
    }
   ],
   "source": [
    "str[-3:-1]"
   ]
  },
  {
   "cell_type": "code",
   "execution_count": null,
   "metadata": {},
   "outputs": [
    {
     "data": {
      "text/plain": [
       "'56789'"
      ]
     },
     "execution_count": 88,
     "metadata": {},
     "output_type": "execute_result"
    }
   ],
   "source": [
    "str[5:]"
   ]
  },
  {
   "cell_type": "code",
   "execution_count": null,
   "metadata": {},
   "outputs": [
    {
     "data": {
      "text/plain": [
       "'01234'"
      ]
     },
     "execution_count": 89,
     "metadata": {},
     "output_type": "execute_result"
    }
   ],
   "source": [
    "str[:-5]"
   ]
  },
  {
   "cell_type": "code",
   "execution_count": null,
   "metadata": {},
   "outputs": [
    {
     "data": {
      "text/plain": [
       "'56789'"
      ]
     },
     "execution_count": 90,
     "metadata": {},
     "output_type": "execute_result"
    }
   ],
   "source": [
    "#str[19] # 없는 인덱스는 에러가 발생한다. \n",
    "str[5:19] # 슬라이싱에서는 인덱스가 범위를 넘어도 범위의 끝까지만 출력한다. "
   ]
  },
  {
   "cell_type": "code",
   "execution_count": null,
   "metadata": {},
   "outputs": [
    {
     "name": "stdout",
     "output_type": "stream",
     "text": [
      "02468\n",
      "02468\n"
     ]
    }
   ],
   "source": [
    "# str[from:to:step]\n",
    "print(str[0:9:2]) # 0번째부터 9번째까지 2씩 증가하며 접근\n",
    "print(str[::2]) # 처음부터 끝까지 2씩 증가하며 접근"
   ]
  },
  {
   "cell_type": "code",
   "execution_count": null,
   "metadata": {},
   "outputs": [
    {
     "name": "stdout",
     "output_type": "stream",
     "text": [
      "9876543210\n",
      "9876543210\n"
     ]
    }
   ],
   "source": [
    "# 거꾸로\n",
    "print(str[9::-1])\n",
    "print(str[::-1])"
   ]
  },
  {
   "cell_type": "markdown",
   "metadata": {},
   "source": [
    "### 3.3 논리형(True, False)"
   ]
  },
  {
   "cell_type": "code",
   "execution_count": null,
   "metadata": {},
   "outputs": [
    {
     "name": "stdout",
     "output_type": "stream",
     "text": [
      "True\n",
      "<class 'bool'>\n",
      "True\n"
     ]
    }
   ],
   "source": [
    "a = True\n",
    "print(a)\n",
    "print(type(a))\n",
    "print(isinstance(a, bool)) # a가 bool type의 객체인지를 return함"
   ]
  },
  {
   "cell_type": "code",
   "execution_count": null,
   "metadata": {},
   "outputs": [
    {
     "name": "stdout",
     "output_type": "stream",
     "text": [
      "False\n"
     ]
    }
   ],
   "source": [
    "# False로 간주하는 것 : 0, None, \"\", '', [], (), {}\n",
    "# True로 간주하는 것 : ' ', '\\0', 0이 아닌 숫자\n",
    "\n",
    "if 0+0j:\n",
    "    print(True)\n",
    "else:\n",
    "    print(False)"
   ]
  },
  {
   "cell_type": "markdown",
   "metadata": {},
   "source": [
    "### 3.4 자료형 확인 및 변환\n",
    "- type() : 자료형 확인\n",
    "- int() : int형 변환\n",
    "- float() : float형 변환\n",
    "- str() : string형 변환\n"
   ]
  },
  {
   "cell_type": "markdown",
   "metadata": {},
   "source": [
    "## 4절. formatting"
   ]
  },
  {
   "cell_type": "code",
   "execution_count": null,
   "metadata": {},
   "outputs": [
    {
     "name": "stdout",
     "output_type": "stream",
     "text": [
      "이름은 홍길동, 주소는 서울시 금천구\n"
     ]
    }
   ],
   "source": [
    "name = '홍길동'\n",
    "add = '서울시 금천구'\n",
    "print('이름은 {1}, 주소는 {0}'.format(add, name))"
   ]
  },
  {
   "cell_type": "code",
   "execution_count": null,
   "metadata": {},
   "outputs": [
    {
     "name": "stdout",
     "output_type": "stream",
     "text": [
      "이름은 홍길동 주소는 서울시 금천구\n"
     ]
    }
   ],
   "source": [
    "print('이름은 %s 주소는 %s'%(name, add))"
   ]
  },
  {
   "cell_type": "code",
   "execution_count": null,
   "metadata": {},
   "outputs": [
    {
     "name": "stdout",
     "output_type": "stream",
     "text": [
      "이름은 홍길동, 주소는 서울시 금천구\n"
     ]
    }
   ],
   "source": [
    "print(f'이름은 {name}, 주소는 {add}')"
   ]
  },
  {
   "cell_type": "markdown",
   "metadata": {},
   "source": [
    "format(함수)\n",
    "- \"{[인덱스]:[공백대체문자][정렬방법][자릿수][타입]}\".format(변수명,...)\n",
    "    - 정렬방법 : <(왼쪽정렬), >(오른쪽 정렬), ^(가운데 정렬)\n",
    "    - 타입 : d(10진수), x(16진수), b(2진수), f(실수), s(문자)"
   ]
  },
  {
   "cell_type": "code",
   "execution_count": null,
   "metadata": {},
   "outputs": [
    {
     "name": "stdout",
     "output_type": "stream",
     "text": [
      "[$$$$$$$$10], [he******************]\n"
     ]
    }
   ],
   "source": [
    "a = 10\n",
    "s = 'hello'\n",
    "print(\"[{0:$>10d}], [{1:*<20.2}]\".format(a, s)) # .을 사용해 데이터 마스킹 가능"
   ]
  },
  {
   "cell_type": "markdown",
   "metadata": {},
   "source": [
    "## 5절 연산자\n",
    "### 5.1 산술연산자 : + - / * //(몫) %(나머지) **(제곱)\n",
    "### 5.2 할당연산자 : = += -= /= %= ...\n",
    "### 5.3 논리연산자 : &, and, |, or, not (우선순위 높음) \n",
    "### 5.4 비트연산자 : &, |, ^(or) "
   ]
  },
  {
   "cell_type": "code",
   "execution_count": null,
   "metadata": {},
   "outputs": [
    {
     "name": "stdout",
     "output_type": "stream",
     "text": [
      "True\n"
     ]
    }
   ],
   "source": [
    "print((10>3) & (10>5)) # 논리 연산자 True & False"
   ]
  },
  {
   "cell_type": "code",
   "execution_count": null,
   "metadata": {},
   "outputs": [
    {
     "name": "stdout",
     "output_type": "stream",
     "text": [
      "0\n",
      "13\n"
     ]
    }
   ],
   "source": [
    "print(12&1) # 비트연산 2b1100 & 2b0001 = 2b0000 (0)\n",
    "print(12|1) # 비트연산 2b1100 | 2b0001 = 2b1101 (13)"
   ]
  },
  {
   "cell_type": "markdown",
   "metadata": {},
   "source": [
    "### 5.5 비교연산자 : >, >=, <, <=, ==, !="
   ]
  },
  {
   "cell_type": "code",
   "execution_count": null,
   "metadata": {},
   "outputs": [
    {
     "data": {
      "text/plain": [
       "True"
      ]
     },
     "execution_count": 119,
     "metadata": {},
     "output_type": "execute_result"
    }
   ],
   "source": [
    "'아' < '하'"
   ]
  },
  {
   "cell_type": "code",
   "execution_count": null,
   "metadata": {},
   "outputs": [
    {
     "data": {
      "text/plain": [
       "True"
      ]
     },
     "execution_count": 120,
     "metadata": {},
     "output_type": "execute_result"
    }
   ],
   "source": [
    "'*' < '1' < 'A' < 'a'"
   ]
  },
  {
   "cell_type": "markdown",
   "metadata": {},
   "source": [
    "## 6절. 문자열 다루기\n",
    "    - 문자열 슬라이싱 : 문자변수[from:to:step]\n",
    "    - len() : 문자갯수\n",
    "    - upper() : 대문자\n",
    "    - lower() : 소문자\n",
    "    - title() : 각 단어의 앞글자만 대문자로\n",
    "    - capitalize() : 첫문자만 대문자로, 그 외는 소문자\n",
    "    - count('찾을 문자열') : 찾을 문자열이 몇개 들어있는지 갯수 반환\n",
    "    - find('찾을 문자열') : 찾을 문자열을 왼쪽부터 시작하여 몇번째 인덱스에 있는지 반환\n",
    "    - rfind('찾을 문자열') : 찾을 문자열을 오른쪽에서 시작하여 몇번째에 있는지 index 반환\n",
    "    - startswith('찾을 문자열') : 특정 문자열로 시작하는지 T/F 반환\n",
    "    - endswith('찾을 문자열') : 특정 문자열로 끝나는지 T/F 반환\n",
    "    - strip() : 좌우 공백 제거\n",
    "    - lstrip() : 좌 공백 제거\n",
    "    - rstrip() : 우 공백 제거\n",
    "    - isdigit() : 문자열이 숫자 문자열인지 여부 T/F 반환\n",
    "    - islower() : 문자열이 소문자인지 여부 T/F 반환\n",
    "    - isupper() : 문자열이 대문자인지 여부 T/F 반환\n",
    "    - replace(oldStr, newStr) : oldStr을 newStr로 변경\n",
    "    "
   ]
  },
  {
   "cell_type": "code",
   "execution_count": null,
   "metadata": {},
   "outputs": [
    {
     "name": "stdout",
     "output_type": "stream",
     "text": [
      "대문자로 :  PYTHON IS EASY, PYTHON IS SMART.\n",
      "첫글자를 대문자로 :  Python is easy, python is smart.\n",
      "title() :  Python Is Easy, Python Is Smart.\n",
      "count() :  2\n",
      "find() :  0\n",
      "rfind() :  16\n",
      "replace('Python, ' ') :    is easy,   is smart.\n",
      "startswith() :  True\n"
     ]
    }
   ],
   "source": [
    "temp = 'Python is easy, Python is smart.'\n",
    "print('대문자로 : ',temp.upper())\n",
    "print('첫글자를 대문자로 : ',temp.capitalize())\n",
    "print('title() : ',temp.title())\n",
    "print('count() : ',temp.count('Python'))\n",
    "print('find() : ',temp.find('Python'))\n",
    "print('rfind() : ',temp.rfind('Python'))\n",
    "print(\"replace('Python, ' ') : \", temp.replace('Python', ' '))\n",
    "print('startswith() : ', temp.startswith(\"Py\"))"
   ]
  },
  {
   "cell_type": "code",
   "execution_count": null,
   "metadata": {},
   "outputs": [
    {
     "name": "stdout",
     "output_type": "stream",
     "text": [
      "trip : [     Python is         ]\n",
      "strip : [Python is]\n",
      "rstrip : [     Python is]\n",
      "lstrip : [Python is         ]\n"
     ]
    }
   ],
   "source": [
    "temp = \"     Python is         \"\n",
    "print(\"trip : [{}]\".format(temp))\n",
    "print(\"strip : [{}]\".format(temp.strip()))\n",
    "print(\"rstrip : [{}]\".format(temp.rstrip()))\n",
    "print(\"lstrip : [{}]\".format(temp.lstrip()))"
   ]
  },
  {
   "cell_type": "code",
   "execution_count": null,
   "metadata": {},
   "outputs": [
    {
     "name": "stdout",
     "output_type": "stream",
     "text": [
      "space 단위로 분리하여 list로 변환 :  ['Python', 'is', 'easy,', 'Python', 'is', 'smart.']\n"
     ]
    }
   ],
   "source": [
    "temp = 'Python is easy, Python is smart.'\n",
    "print('space 단위로 분리하여 list로 변환 : ', temp.split())"
   ]
  },
  {
   "cell_type": "code",
   "execution_count": null,
   "metadata": {},
   "outputs": [
    {
     "name": "stdout",
     "output_type": "stream",
     "text": [
      "- 단위로 연 월 일을 분리 :  ['2024', '05', '30']\n"
     ]
    }
   ],
   "source": [
    "temp = '2024-05-30'\n",
    "temp_list = temp.split('-')\n",
    "print('- 단위로 연 월 일을 분리 : ', temp_list)"
   ]
  },
  {
   "cell_type": "markdown",
   "metadata": {},
   "source": [
    "## 7절. 날짜 다루기\n",
    "### 7.1 날짜 "
   ]
  },
  {
   "cell_type": "code",
   "execution_count": 12,
   "metadata": {},
   "outputs": [
    {
     "data": {
      "text/plain": [
       "datetime.date(2024, 5, 30)"
      ]
     },
     "execution_count": 12,
     "metadata": {},
     "output_type": "execute_result"
    }
   ],
   "source": [
    "from datetime import date # datetime 패키지 디렉토리의 date import\n",
    "someday = date(2024, 5, 30)\n",
    "someday"
   ]
  },
  {
   "cell_type": "code",
   "execution_count": 15,
   "metadata": {},
   "outputs": [
    {
     "name": "stdout",
     "output_type": "stream",
     "text": [
      "2024년 05월 30일 00시 00분\n"
     ]
    }
   ],
   "source": [
    "print(\"{:%Y년 %m월 %d일 %H시 %M분}\".format(someday))"
   ]
  },
  {
   "cell_type": "markdown",
   "metadata": {},
   "source": [
    "### 7.2 시간"
   ]
  },
  {
   "cell_type": "code",
   "execution_count": 16,
   "metadata": {},
   "outputs": [
    {
     "name": "stdout",
     "output_type": "stream",
     "text": [
      "2024년 05월 30일 12시 48분\n"
     ]
    }
   ],
   "source": [
    "from datetime import datetime\n",
    "now = datetime.today()\n",
    "print(\"{:%Y년 %m월 %d일 %H시 %M분}\".format(now))"
   ]
  },
  {
   "cell_type": "markdown",
   "metadata": {},
   "source": [
    "## 8절. 연습문제"
   ]
  },
  {
   "cell_type": "code",
   "execution_count": 18,
   "metadata": {},
   "outputs": [
    {
     "name": "stdout",
     "output_type": "stream",
     "text": [
      "김준호님의 나이는 25입니다.\n"
     ]
    }
   ],
   "source": [
    "name = input('이름을 입력해주세요 : ')\n",
    "age = int(input('나이를 입력해주세요 : '))\n",
    "\n",
    "print(f\"{name}님의 나이는 {age}입니다.\")"
   ]
  },
  {
   "cell_type": "code",
   "execution_count": 5,
   "metadata": {},
   "outputs": [
    {
     "name": "stdout",
     "output_type": "stream",
     "text": [
      "두 수의 합 : 13\n",
      "두 수의 차 : 7\n",
      "두 수의 곱 : 30\n",
      "두 수의 나눗셈 : 3.3333333333333335\n",
      "두 수의 몫 : 3\n",
      "두 수의 나머지 : 1\n"
     ]
    }
   ],
   "source": [
    "a, b = map(int, input(\"두 정수를 입력해주세요 : \").split())\n",
    "print(\"두 수의 합 : {}\".format(a+b))\n",
    "print(\"두 수의 차 : {}\".format(a-b))\n",
    "print(\"두 수의 곱 : {}\".format(a*b))\n",
    "print(\"두 수의 나눗셈 : {}\".format(a/b))\n",
    "print(\"두 수의 몫 : {}\".format(a//b))\n",
    "print(\"두 수의 나머지 : {}\".format(a%b))"
   ]
  },
  {
   "cell_type": "code",
   "execution_count": 8,
   "metadata": {},
   "outputs": [
    {
     "name": "stdout",
     "output_type": "stream",
     "text": [
      "World Hello\n"
     ]
    }
   ],
   "source": [
    "temp = 'Hello World'\n",
    "temp_list = temp.split()\n",
    "temp = temp_list[1] + ' ' + temp_list[0]\n",
    "print(temp)"
   ]
  },
  {
   "cell_type": "code",
   "execution_count": 11,
   "metadata": {},
   "outputs": [
    {
     "name": "stdout",
     "output_type": "stream",
     "text": [
      "bcdefa\n"
     ]
    }
   ],
   "source": [
    "x = 'abcdef'\n",
    "print(x[1:]+x[0])"
   ]
  },
  {
   "cell_type": "code",
   "execution_count": 12,
   "metadata": {},
   "outputs": [
    {
     "name": "stdout",
     "output_type": "stream",
     "text": [
      "fedcba\n"
     ]
    }
   ],
   "source": [
    "print(x[::-1])"
   ]
  },
  {
   "cell_type": "code",
   "execution_count": 18,
   "metadata": {},
   "outputs": [
    {
     "name": "stdout",
     "output_type": "stream",
     "text": [
      "37.65\n"
     ]
    }
   ],
   "source": [
    "C = float(input(\"오늘의 섭씨 온도를 입력해주세요: \"))\n",
    "F = C * 1.8 + 32\n",
    "if (F % 1 == 0):\n",
    "    print(\"{:d}\".format(F))\n",
    "else:\n",
    "    print(\"{:.2f}\".format(F))\n",
    "\n",
    "    "
   ]
  },
  {
   "cell_type": "markdown",
   "metadata": {},
   "source": [
    "7번 : \n",
    "(1) for는 기본 예약어 (2) 변수 이름의 시작을 숫자로 할 수 없음.\n",
    "(3) . 사용 불가\n",
    "\n",
    "8번: \n",
    "\n",
    "```Python\n",
    "SeounSeoul\n",
    "(Seou,n,Seoul)\n",
    "```\n",
    "\n",
    "9번 : (2)"
   ]
  },
  {
   "cell_type": "code",
   "execution_count": 19,
   "metadata": {},
   "outputs": [
    {
     "data": {
      "text/plain": [
       "4.0"
      ]
     },
     "execution_count": 19,
     "metadata": {},
     "output_type": "execute_result"
    }
   ],
   "source": []
  }
 ],
 "metadata": {
  "kernelspec": {
   "display_name": "Python 3 (ipykernel)",
   "language": "python",
   "name": "python3"
  },
  "language_info": {
   "codemirror_mode": {
    "name": "ipython",
    "version": 3
   },
   "file_extension": ".py",
   "mimetype": "text/x-python",
   "name": "python",
   "nbconvert_exporter": "python",
   "pygments_lexer": "ipython3",
   "version": "3.11.7"
  }
 },
 "nbformat": 4,
 "nbformat_minor": 2
}
