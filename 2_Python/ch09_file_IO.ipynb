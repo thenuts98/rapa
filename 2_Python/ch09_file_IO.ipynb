{
 "cells": [
  {
   "cell_type": "markdown",
   "metadata": {},
   "source": [
    "# ch09. 파일 입출력\n",
    "## 1절. 파일에 데이터를 저장하고 불러오기"
   ]
  },
  {
   "cell_type": "code",
   "execution_count": 12,
   "metadata": {},
   "outputs": [],
   "source": [
    "dir = 'C:/IVS/C_Python/2_Python/data/'"
   ]
  },
  {
   "cell_type": "code",
   "execution_count": 23,
   "metadata": {},
   "outputs": [
    {
     "name": "stdout",
     "output_type": "stream",
     "text": [
      "True\n"
     ]
    }
   ],
   "source": [
    "# w : 있는 파일은 기존의 파일에 덮어쓰고 없는 파일은 생성\n",
    "# a : 있는 파일은 추가, 없는 파일은 생성\n",
    "# r : 읽기 전용\n",
    "f = open(dir+'ch09.txt', 'w')\n",
    "print(f.writable())"
   ]
  },
  {
   "cell_type": "code",
   "execution_count": 24,
   "metadata": {},
   "outputs": [],
   "source": [
    "f.write('Hello\\nWorld\\nHello\\nPython\\n반갑습니다\\n')\n",
    "f.write('\\n여러번 write 가능')\n",
    "f.close()"
   ]
  },
  {
   "cell_type": "code",
   "execution_count": 25,
   "metadata": {},
   "outputs": [
    {
     "name": "stdout",
     "output_type": "stream",
     "text": [
      "['Hello\\n', 'World\\n', 'Hello\\n', 'Python\\n', '반갑습니다\\n', '\\n', '여러번 write 가능']\n"
     ]
    }
   ],
   "source": [
    "with open(dir+'ch09.txt', 'r') as f:\n",
    "    data = f.readlines()\n",
    "    print(data)"
   ]
  },
  {
   "cell_type": "code",
   "execution_count": 54,
   "metadata": {},
   "outputs": [],
   "source": [
    "with open(dir+'ch09.txt', 'w') as f:\n",
    "    print('Python is easy\\n', file=f)\n",
    "    "
   ]
  },
  {
   "cell_type": "code",
   "execution_count": 55,
   "metadata": {},
   "outputs": [
    {
     "name": "stdout",
     "output_type": "stream",
     "text": [
      "홍길동,20,123@asd.com,서울시 강서구\n",
      "박길서,33,12341@asd.com,서울시 동작구\n",
      "박길남,23,1261343@asd.com,서울시 서초구\n",
      "김길북,40,1263413@asd.com,서울시 광진구\n",
      "신길서,80,121233@asd.com,서울시 강남구\n",
      "신길동,65,123123@asd.com,서울시 강서구\n",
      "이길동,123,32123@asd.com,서울시 중구\n",
      "박길동,63,15623@asd.com,서울시 용산구\n",
      "김길동,53,12783@asd.com,서울시 노원구"
     ]
    }
   ],
   "source": [
    "# UTF-8로 인코딩된 CSV파일을 read\n",
    "with open(dir+'ch09_member1.csv', 'r', encoding='UTF-8') as f:\n",
    "    # =================================\n",
    "    # 안좋은 방법\n",
    "    data = f.readlines()\n",
    "    for row in data:\n",
    "        print(row, end='')"
   ]
  },
  {
   "cell_type": "code",
   "execution_count": 56,
   "metadata": {},
   "outputs": [
    {
     "data": {
      "text/html": [
       "<div>\n",
       "<style scoped>\n",
       "    .dataframe tbody tr th:only-of-type {\n",
       "        vertical-align: middle;\n",
       "    }\n",
       "\n",
       "    .dataframe tbody tr th {\n",
       "        vertical-align: top;\n",
       "    }\n",
       "\n",
       "    .dataframe thead th {\n",
       "        text-align: right;\n",
       "    }\n",
       "</style>\n",
       "<table border=\"1\" class=\"dataframe\">\n",
       "  <thead>\n",
       "    <tr style=\"text-align: right;\">\n",
       "      <th></th>\n",
       "      <th>홍길동</th>\n",
       "      <th>20</th>\n",
       "      <th>123@asd.com</th>\n",
       "      <th>서울시 강서구</th>\n",
       "    </tr>\n",
       "  </thead>\n",
       "  <tbody>\n",
       "    <tr>\n",
       "      <th>0</th>\n",
       "      <td>박길서</td>\n",
       "      <td>33</td>\n",
       "      <td>12341@asd.com</td>\n",
       "      <td>서울시 동작구</td>\n",
       "    </tr>\n",
       "    <tr>\n",
       "      <th>1</th>\n",
       "      <td>박길남</td>\n",
       "      <td>23</td>\n",
       "      <td>1261343@asd.com</td>\n",
       "      <td>서울시 서초구</td>\n",
       "    </tr>\n",
       "    <tr>\n",
       "      <th>2</th>\n",
       "      <td>김길북</td>\n",
       "      <td>40</td>\n",
       "      <td>1263413@asd.com</td>\n",
       "      <td>서울시 광진구</td>\n",
       "    </tr>\n",
       "    <tr>\n",
       "      <th>3</th>\n",
       "      <td>신길서</td>\n",
       "      <td>80</td>\n",
       "      <td>121233@asd.com</td>\n",
       "      <td>서울시 강남구</td>\n",
       "    </tr>\n",
       "    <tr>\n",
       "      <th>4</th>\n",
       "      <td>신길동</td>\n",
       "      <td>65</td>\n",
       "      <td>123123@asd.com</td>\n",
       "      <td>서울시 강서구</td>\n",
       "    </tr>\n",
       "    <tr>\n",
       "      <th>5</th>\n",
       "      <td>이길동</td>\n",
       "      <td>123</td>\n",
       "      <td>32123@asd.com</td>\n",
       "      <td>서울시 중구</td>\n",
       "    </tr>\n",
       "    <tr>\n",
       "      <th>6</th>\n",
       "      <td>박길동</td>\n",
       "      <td>63</td>\n",
       "      <td>15623@asd.com</td>\n",
       "      <td>서울시 용산구</td>\n",
       "    </tr>\n",
       "    <tr>\n",
       "      <th>7</th>\n",
       "      <td>김길동</td>\n",
       "      <td>53</td>\n",
       "      <td>12783@asd.com</td>\n",
       "      <td>서울시 노원구</td>\n",
       "    </tr>\n",
       "  </tbody>\n",
       "</table>\n",
       "</div>"
      ],
      "text/plain": [
       "   홍길동   20      123@asd.com  서울시 강서구\n",
       "0  박길서   33    12341@asd.com  서울시 동작구\n",
       "1  박길남   23  1261343@asd.com  서울시 서초구\n",
       "2  김길북   40  1263413@asd.com  서울시 광진구\n",
       "3  신길서   80   121233@asd.com  서울시 강남구\n",
       "4  신길동   65   123123@asd.com  서울시 강서구\n",
       "5  이길동  123    32123@asd.com   서울시 중구\n",
       "6  박길동   63    15623@asd.com  서울시 용산구\n",
       "7  김길동   53    12783@asd.com  서울시 노원구"
      ]
     },
     "execution_count": 56,
     "metadata": {},
     "output_type": "execute_result"
    }
   ],
   "source": [
    "import pandas as pd\n",
    "\n",
    "member1 = pd.read_csv(dir+'ch09_member1.csv')\n",
    "\n",
    "member1"
   ]
  },
  {
   "cell_type": "code",
   "execution_count": 57,
   "metadata": {},
   "outputs": [
    {
     "data": {
      "text/html": [
       "<div>\n",
       "<style scoped>\n",
       "    .dataframe tbody tr th:only-of-type {\n",
       "        vertical-align: middle;\n",
       "    }\n",
       "\n",
       "    .dataframe tbody tr th {\n",
       "        vertical-align: top;\n",
       "    }\n",
       "\n",
       "    .dataframe thead th {\n",
       "        text-align: right;\n",
       "    }\n",
       "</style>\n",
       "<table border=\"1\" class=\"dataframe\">\n",
       "  <thead>\n",
       "    <tr style=\"text-align: right;\">\n",
       "      <th></th>\n",
       "      <th>name</th>\n",
       "      <th>age</th>\n",
       "      <th>email</th>\n",
       "      <th>address</th>\n",
       "    </tr>\n",
       "  </thead>\n",
       "  <tbody>\n",
       "    <tr>\n",
       "      <th>0</th>\n",
       "      <td>박길서</td>\n",
       "      <td>33</td>\n",
       "      <td>12341@asd.com</td>\n",
       "      <td>서울시 동작구</td>\n",
       "    </tr>\n",
       "    <tr>\n",
       "      <th>1</th>\n",
       "      <td>박길남</td>\n",
       "      <td>23</td>\n",
       "      <td>1261343@asd.com</td>\n",
       "      <td>서울시 서초구</td>\n",
       "    </tr>\n",
       "    <tr>\n",
       "      <th>2</th>\n",
       "      <td>김길북</td>\n",
       "      <td>40</td>\n",
       "      <td>1263413@asd.com</td>\n",
       "      <td>서울시 광진구</td>\n",
       "    </tr>\n",
       "    <tr>\n",
       "      <th>3</th>\n",
       "      <td>신길서</td>\n",
       "      <td>80</td>\n",
       "      <td>121233@asd.com</td>\n",
       "      <td>서울시 강남구</td>\n",
       "    </tr>\n",
       "    <tr>\n",
       "      <th>4</th>\n",
       "      <td>신길동</td>\n",
       "      <td>65</td>\n",
       "      <td>123123@asd.com</td>\n",
       "      <td>서울시 강서구</td>\n",
       "    </tr>\n",
       "    <tr>\n",
       "      <th>5</th>\n",
       "      <td>이길동</td>\n",
       "      <td>123</td>\n",
       "      <td>32123@asd.com</td>\n",
       "      <td>서울시 중구</td>\n",
       "    </tr>\n",
       "    <tr>\n",
       "      <th>6</th>\n",
       "      <td>박길동</td>\n",
       "      <td>63</td>\n",
       "      <td>15623@asd.com</td>\n",
       "      <td>서울시 용산구</td>\n",
       "    </tr>\n",
       "    <tr>\n",
       "      <th>7</th>\n",
       "      <td>김길동</td>\n",
       "      <td>53</td>\n",
       "      <td>12783@asd.com</td>\n",
       "      <td>서울시 노원구</td>\n",
       "    </tr>\n",
       "  </tbody>\n",
       "</table>\n",
       "</div>"
      ],
      "text/plain": [
       "  name  age            email  address\n",
       "0  박길서   33    12341@asd.com  서울시 동작구\n",
       "1  박길남   23  1261343@asd.com  서울시 서초구\n",
       "2  김길북   40  1263413@asd.com  서울시 광진구\n",
       "3  신길서   80   121233@asd.com  서울시 강남구\n",
       "4  신길동   65   123123@asd.com  서울시 강서구\n",
       "5  이길동  123    32123@asd.com   서울시 중구\n",
       "6  박길동   63    15623@asd.com  서울시 용산구\n",
       "7  김길동   53    12783@asd.com  서울시 노원구"
      ]
     },
     "execution_count": 57,
     "metadata": {},
     "output_type": "execute_result"
    }
   ],
   "source": [
    "member1.columns = ['name', 'age', 'email', 'address']\n",
    "member1"
   ]
  },
  {
   "cell_type": "code",
   "execution_count": 58,
   "metadata": {},
   "outputs": [
    {
     "data": {
      "text/plain": [
       "pandas.core.frame.DataFrame"
      ]
     },
     "execution_count": 58,
     "metadata": {},
     "output_type": "execute_result"
    }
   ],
   "source": [
    "type(member1)"
   ]
  },
  {
   "cell_type": "code",
   "execution_count": 59,
   "metadata": {},
   "outputs": [],
   "source": [
    "member2 = pd.read_csv(dir+'ch09_member2.csv', nrows=3)"
   ]
  },
  {
   "cell_type": "code",
   "execution_count": 60,
   "metadata": {},
   "outputs": [
    {
     "data": {
      "text/html": [
       "<div>\n",
       "<style scoped>\n",
       "    .dataframe tbody tr th:only-of-type {\n",
       "        vertical-align: middle;\n",
       "    }\n",
       "\n",
       "    .dataframe tbody tr th {\n",
       "        vertical-align: top;\n",
       "    }\n",
       "\n",
       "    .dataframe thead th {\n",
       "        text-align: right;\n",
       "    }\n",
       "</style>\n",
       "<table border=\"1\" class=\"dataframe\">\n",
       "  <thead>\n",
       "    <tr style=\"text-align: right;\">\n",
       "      <th></th>\n",
       "      <th>name</th>\n",
       "      <th>age</th>\n",
       "      <th>email</th>\n",
       "      <th>address</th>\n",
       "    </tr>\n",
       "  </thead>\n",
       "  <tbody>\n",
       "    <tr>\n",
       "      <th>0</th>\n",
       "      <td>박길서</td>\n",
       "      <td>33</td>\n",
       "      <td>12341@asd.com</td>\n",
       "      <td>서울시 동작구</td>\n",
       "    </tr>\n",
       "    <tr>\n",
       "      <th>1</th>\n",
       "      <td>박길남</td>\n",
       "      <td>23</td>\n",
       "      <td>1261343@asd.com</td>\n",
       "      <td>서울시 서초구</td>\n",
       "    </tr>\n",
       "    <tr>\n",
       "      <th>2</th>\n",
       "      <td>김길북</td>\n",
       "      <td>40</td>\n",
       "      <td>1263413@asd.com</td>\n",
       "      <td>서울시 광진구</td>\n",
       "    </tr>\n",
       "    <tr>\n",
       "      <th>3</th>\n",
       "      <td>신길서</td>\n",
       "      <td>80</td>\n",
       "      <td>121233@asd.com</td>\n",
       "      <td>서울시 강남구</td>\n",
       "    </tr>\n",
       "    <tr>\n",
       "      <th>4</th>\n",
       "      <td>신길동</td>\n",
       "      <td>65</td>\n",
       "      <td>123123@asd.com</td>\n",
       "      <td>서울시 강서구</td>\n",
       "    </tr>\n",
       "    <tr>\n",
       "      <th>5</th>\n",
       "      <td>이길동</td>\n",
       "      <td>123</td>\n",
       "      <td>32123@asd.com</td>\n",
       "      <td>서울시 중구</td>\n",
       "    </tr>\n",
       "    <tr>\n",
       "      <th>6</th>\n",
       "      <td>박길동</td>\n",
       "      <td>63</td>\n",
       "      <td>15623@asd.com</td>\n",
       "      <td>서울시 용산구</td>\n",
       "    </tr>\n",
       "    <tr>\n",
       "      <th>7</th>\n",
       "      <td>김길동</td>\n",
       "      <td>53</td>\n",
       "      <td>12783@asd.com</td>\n",
       "      <td>서울시 노원구</td>\n",
       "    </tr>\n",
       "    <tr>\n",
       "      <th>0</th>\n",
       "      <td>홍길동</td>\n",
       "      <td>20</td>\n",
       "      <td>123@asd.com</td>\n",
       "      <td>서울시 강서구</td>\n",
       "    </tr>\n",
       "    <tr>\n",
       "      <th>1</th>\n",
       "      <td>박길서</td>\n",
       "      <td>33</td>\n",
       "      <td>12341@asd.com</td>\n",
       "      <td>서울시 동작구</td>\n",
       "    </tr>\n",
       "    <tr>\n",
       "      <th>2</th>\n",
       "      <td>박길남</td>\n",
       "      <td>23</td>\n",
       "      <td>1261343@asd.com</td>\n",
       "      <td>서울시 서초구</td>\n",
       "    </tr>\n",
       "  </tbody>\n",
       "</table>\n",
       "</div>"
      ],
      "text/plain": [
       "  name  age            email  address\n",
       "0  박길서   33    12341@asd.com  서울시 동작구\n",
       "1  박길남   23  1261343@asd.com  서울시 서초구\n",
       "2  김길북   40  1263413@asd.com  서울시 광진구\n",
       "3  신길서   80   121233@asd.com  서울시 강남구\n",
       "4  신길동   65   123123@asd.com  서울시 강서구\n",
       "5  이길동  123    32123@asd.com   서울시 중구\n",
       "6  박길동   63    15623@asd.com  서울시 용산구\n",
       "7  김길동   53    12783@asd.com  서울시 노원구\n",
       "0  홍길동   20      123@asd.com  서울시 강서구\n",
       "1  박길서   33    12341@asd.com  서울시 동작구\n",
       "2  박길남   23  1261343@asd.com  서울시 서초구"
      ]
     },
     "metadata": {},
     "output_type": "display_data"
    }
   ],
   "source": [
    "member = pd.concat([member1, member2]) # 행병합\n",
    "display(member)"
   ]
  },
  {
   "cell_type": "code",
   "execution_count": 61,
   "metadata": {},
   "outputs": [],
   "source": [
    "member.to_csv(dir+'member.csv', index=False)"
   ]
  }
 ],
 "metadata": {
  "kernelspec": {
   "display_name": "Python 3 (ipykernel)",
   "language": "python",
   "name": "python3"
  },
  "language_info": {
   "codemirror_mode": {
    "name": "ipython",
    "version": 3
   },
   "file_extension": ".py",
   "mimetype": "text/x-python",
   "name": "python",
   "nbconvert_exporter": "python",
   "pygments_lexer": "ipython3",
   "version": "3.11.7"
  }
 },
 "nbformat": 4,
 "nbformat_minor": 2
}
