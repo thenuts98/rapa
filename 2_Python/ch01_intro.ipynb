{
 "cells": [
  {
   "cell_type": "markdown",
   "metadata": {},
   "source": [
    "## ch01. 파이썬 개요 및 환경설정\n",
    "### 1. 주피터 노트북 사용법\n",
    "- shift + Enter : 포커스된 셀이 실행되고 다음 셀로 이동\n",
    "- alt + Enter : 포커스된 셀이 실행되고 다음 셀이 생성된 후 이동\n",
    "- ctrl + Enter : 포커스된 셀이 실행되고 포커스 이동 없음\n",
    "- Enter + 클릭 : 셀이 포커스됨(편집 상태)"
   ]
  },
  {
   "cell_type": "code",
   "execution_count": null,
   "metadata": {},
   "outputs": [],
   "source": [
    "print('Hello, World')"
   ]
  },
  {
   "cell_type": "code",
   "execution_count": null,
   "metadata": {},
   "outputs": [],
   "source": [
    "a = 1\n",
    "b = '2'\n",
    "a + int(b) # 문자 + 숫자 불가능, 형변환 필요"
   ]
  },
  {
   "cell_type": "code",
   "execution_count": null,
   "metadata": {},
   "outputs": [],
   "source": [
    "for i in range(10000000000000):\n",
    "    print(i)\n",
    "    \n",
    "# print를 사용하면 Jupyer io 리밋에 걸려 빠르게 중단되지만, 입출력 없이 커널이 루프에 걸려 연산을 반복하고 있다면\n",
    "# stop을 눌러 해당 작업을 중지할 수 있다. \n",
    "# 만약 반응하지 않는다면 kernel shutdown을 사용하여 커널 자체를 중단시켜야 한다. "
   ]
  },
  {
   "cell_type": "markdown",
   "metadata": {},
   "source": [
    "### 2. ESC를 사용한 핫키\n",
    "- dd : 셀 삭제\n",
    "- a : 윗셀 추가\n",
    "- b : 아랫셀 추가\n",
    "- m : 마크다운 셀로 전환\n",
    "- y : 코드 셀로 전환"
   ]
  },
  {
   "cell_type": "markdown",
   "metadata": {},
   "source": [
    "### 3. Table of Contents\n",
    "- View > Table of Contents 메뉴 \n",
    "\n",
    "   VSCode에서는 개요 메뉴를 통해 목차를 확인할 수 있다.\n"
   ]
  }
 ],
 "metadata": {
  "kernelspec": {
   "display_name": "Python 3 (ipykernel)",
   "language": "python",
   "name": "python3"
  },
  "language_info": {
   "codemirror_mode": {
    "name": "ipython",
    "version": 3
   },
   "file_extension": ".py",
   "mimetype": "text/x-python",
   "name": "python",
   "nbconvert_exporter": "python",
   "pygments_lexer": "ipython3",
   "version": "3.11.7"
  }
 },
 "nbformat": 4,
 "nbformat_minor": 2
}
